{
 "cells": [
  {
   "cell_type": "markdown",
   "metadata": {},
   "source": [
    "# **COGS 108 - Data Checkpoint**"
   ]
  },
  {
   "cell_type": "markdown",
   "metadata": {},
   "source": [
    "# **Names**\n",
    "- Alara Brashears\n",
    "\n",
    "- Drake Coy\n",
    "\n",
    "- Luke Sztajnkrycer\n",
    "\n",
    "- Rohit Mishra"
   ]
  },
  {
   "cell_type": "markdown",
   "metadata": {},
   "source": [
    "<a id='research_question'></a>\n",
    "# **Research Question**"
   ]
  },
  {
   "cell_type": "markdown",
   "metadata": {},
   "source": [
    "How do tweets from market celebrities/influencers (Elon Musk, ) affect crypto currency and stock market investments? More specifically, how do the sentiments of these tweets drive the number and types of investments, and how effective are the tweets of pop-culture figures (e.g. Elon Musk, Robert Downy Jr.) compared to less-known specialists (e.g. individuals with formal blockchain knowledge)?"
   ]
  },
  {
   "cell_type": "markdown",
   "metadata": {},
   "source": [
    "# **Dataset(s)**"
   ]
  },
  {
   "cell_type": "markdown",
   "metadata": {},
   "source": [
    "#### Crypto Currency Datasets (CSV's downloaded from Yahoo Finance)\n",
    "- **Dataset Name: Bitcoin**\n",
    "- Link to the dataset: https://finance.yahoo.com/quote/BTC-USD/history?p=BTC-USD\n",
    "- Number of observations: 1,209   \n",
    "This dataset provides general information on daily market trends for Bitcoin, including the starting and ending price of the cryptocurrency at each day, the high price, the low price, and the volume. Note that it is continuously updated, however our dataset uses information ranging from 1/1/2018 to 4/27/2021. We chose bitcoin because it is the most valuable cryptocurrency and it is traded in the highest volume. It is also the most known/popular cryptocurrency.\n",
    "\n",
    "\n",
    "- **Dataset Name: Ethereum**\n",
    "- Link to the dataset: https://finance.yahoo.com/quote/ETH-USD/history?p=ETH-USD\n",
    "- Number of observations: 1,209    \n",
    "This dataset provides general information on daily market trends for Ethereum, including the starting and ending price of the cryptocurrency at each day, the high price, the low price, and the volume. Note that it is continuously updated, however our dataset uses information ranging from 1/1/2018 to 4/27/2021. We chose Ethereum because it is one of the most valuable currencies on the market (roughly the second most valuable), however it is less known by general consumers than bitcoin. It is also commonly mined.\n",
    "\n",
    "\n",
    "\n",
    "- **Dataset Name: Dogecoin**\n",
    "- Link to the dataset: https://finance.yahoo.com/quote/DOGE-USD/history?p=DOGE-USD\n",
    "- Number of observations: 1,209    \n",
    "This dataset provides general information on daily market trends for dogecoin, including the starting and ending price of the cryptocurrency at each day, the high price, the low price, and the volume. Note that it is continuously updated, however our dataset uses information ranging from 1/1/2018 to 4/27/2021. We chose Dogecoin because each unit of it is worth nearly nothing, yet it is traded at such a high quantity that it is one of the most valuable currencies on the market. Additionally, it is often joked about by marketers such as Elon Musk.\n",
    "\n",
    "\n",
    "\n",
    "- **Dataset Name: XRP**\n",
    "- Link to the dataset: https://finance.yahoo.com/quote/XRP-USD/history?p=XRP-USD\n",
    "- Number of observations: 1,209    \n",
    "This dataset provides general information on daily market trends for XRP, including the starting and ending price of the cryptocurrency at each day, the high price, the low price, and the volume. Note that it is continuously updated, however our dataset uses information ranging from 1/1/2018 to 4/27/2021. We chose XRP because it is one of the most valuable currencies on the market, however it is less known by general consumers than bitcoin.\n"
   ]
  },
  {
   "cell_type": "markdown",
   "metadata": {},
   "source": [
    "#### Twitter Datesets (Scraped from Twitter Directly)\n",
    "- **Dataset Name: Elon Musk Tweets**\n",
    "- Link to the dataset: http://localhost:8888/files/Documents/GitHub/group051_sp21/data/user-tweets-elonmusk.csv?_xsrf=2%7Cf30b1332%7Cf9e4a3f4c90f26a7897723f3df9c57cb%7C1618384478\n",
    "- Number of observations: 9,502  \n",
    "This dataset provides all of Elon Musk's tweets from the past three years (2018-2021). It contains the time the tweet was made, the content of the tweet, user information, a unique id, number of replys, number of retweets, number of quotes, and more information we will not be using. We chose to get Elon Musk's tweets because he has risen in popularity for championing crypto-investing, specifically dogecoin where he calls himself The DogeFather.\n",
    "\n",
    "- **Dataset Name: Mark Cuban Tweets**\n",
    "- Link to the dataset: http://localhost:8888/files/Documents/GitHub/group051_sp21/data/user-tweets-mcuban.csv?_xsrf=2%7Cf30b1332%7Cf9e4a3f4c90f26a7897723f3df9c57cb%7C1618384478\n",
    "- Number of observations: 2,635  \n",
    "This dataset provides all of Mark Cubans's tweets from the past three years (2018-2021). It contains the time the tweet was made, the content of the tweet, user information, a unique id, number of replys, number of retweets, number of quotes, and more information we will not be using. We chose to get Mark Cuban's tweets because he is a well known, and respected, financial advisor who has pushed crypto as a valid investment choice.\n",
    "\n",
    "- **Dataset Name: Jack Dorsey Tweets** \n",
    "- Link to the dataset: http://localhost:8888/files/Documents/GitHub/group051_sp21/data/user-tweets-jack.csv?_xsrf=2%7Cf30b1332%7Cf9e4a3f4c90f26a7897723f3df9c57cb%7C1618384478\n",
    "- Number of observations: 3,355  \n",
    "This dataset provides all of Jack Dorseys's tweets from the past three years (2018-2021). It contains the time the tweet was made, the content of the tweet, user information, a unique id, number of replys, number of retweets, number of quotes, and more information we will not be using. We chose to get Jack Dorsey's tweets because as the creator of Twitter he has a massive following and pushed bitcoin heavily, with his bio stating \"#bitcoin\".\n",
    "\n",
    "- **Dataset Name: Vladimir Tenev Tweets**\n",
    "- Link to the dataset: http://localhost:8888/files/Documents/GitHub/group051_sp21/data/user-tweetsvladtenev.csv?_xsrf=2%7Cf30b1332%7Cf9e4a3f4c90f26a7897723f3df9c57cb%7C1618384478\n",
    "- Number of observations: 239  \n",
    "This dataset provides all of Vladimir Tenev's tweets from the past three years (2018-2021). It contains the time the tweet was made, the content of the tweet, user information, a unique id, number of replys, number of retweets, number of quotes, and more information we will not be using. We chose to get Vladimir Tenev's tweets because as the founder and CEO of Robinhood (extremely popular crypto/stock investing app among beginners) he should have both experience and ability to influence the crypto markets.\n",
    "\n",
    "- **Dataset Name: Brian Armstrong Tweets**\n",
    "- Link to the dataset: http://localhost:8888/files/Documents/GitHub/group051_sp21/data/user-weetsbrian_armstrong.csv?_xsrf=2%7Cf30b1332%7Cf9e4a3f4c90f26a7897723f3df9c57cb%7C1618384478\n",
    "- Number of observations: 185  \n",
    "This dataset provides all of Brian Armstrong's tweets from the past three years (2018-2021). It contains the time the tweet was made, the content of the tweet, user information, a unique id, number of replys, number of retweets, number of quotes, and more information we will not be using. We chose to get Brian Armstrong's tweets because as the founder and CEO of Coinbase (extremely popular crypto investing platform) he should have both experience and ability to influence the crypto markets.\n",
    "\n",
    "- **Dataset Name: Bespoke Crypto Tweets**\n",
    "- Link to the dataset: http://localhost:8888/files/Documents/GitHub/group051_sp21/data/user-tweets-BespokeCrypto.csv?_xsrf=2%7Cf30b1332%7Cf9e4a3f4c90f26a7897723f3df9c57cb%7C1618384478\n",
    "- Number of observations: 187  \n",
    "This dataset provides all of Bespoke Crypto's tweets from the past three years (2018-2021). It contains the time the tweet was made, the content of the tweet, user information, a unique id, number of replys, number of retweets, number of quotes, and more information we will not be using. We chose to get Bespoke Crypto's tweets because they are a wellknown organization that specializes in providing advice for people wanting to invest in crypto, thus their tweets should be very knowledgable.\n",
    "\n",
    "*Note: The Twitter data scraped was done with a modified version of Martin Beck's \"Twitter Scraper.\" The github repo to his code can be found here:*   \n",
    "https://github.com/MartinBeckUT/TwitterScraper  "
   ]
  },
  {
   "cell_type": "markdown",
   "metadata": {},
   "source": [
    "#### Plans to combine the above datasets"
   ]
  },
  {
   "cell_type": "markdown",
   "metadata": {},
   "source": [
    "There are many ways to combine these datasets; you can see in the data processing section of this report that we have already combined daily prices and price changes from each of our four cryptocurrencies so that we may better analyze the trend of each currency when we move into EDA (we have other ideas, but these are some preliminary ones). Additionally, the tweets we have scraped all have dates on them; this means we can perform sentiment analysis on the twitter datasets to see if these influencers are talking about similar things at similar times, and to see if their tweets actually do influence the prices of popular cryptocurrencies\n"
   ]
  },
  {
   "cell_type": "markdown",
   "metadata": {},
   "source": [
    "# **Setup**"
   ]
  },
  {
   "cell_type": "code",
   "execution_count": 1,
   "metadata": {},
   "outputs": [],
   "source": [
    "#importing relevant libraries\n",
    "import pandas as pd\n",
    "import numpy as np\n",
    "pd.options.display.max_rows = 999\n",
    "pd.options.display.max_columns = 25"
   ]
  },
  {
   "cell_type": "code",
   "execution_count": 2,
   "metadata": {},
   "outputs": [],
   "source": [
    "#Twitter Data\n",
    "elon_musk_tweets = pd.read_csv('data/user-tweets-elonmusk.csv')\n",
    "mark_cuban_tweets = pd.read_csv('data/user-tweets-mcuban.csv')\n",
    "jack_dorsey_tweets = pd.read_csv('data/user-tweets-jack.csv')\n",
    "vladimir_tenev_tweets = pd.read_csv('data/user-tweets-vladtenev.csv')\n",
    "brian_armstrong_tweets = pd.read_csv('data/user-tweets-brian_armstrong.csv')\n",
    "bespoke_crypto_tweets = pd.read_csv('data/user-tweets-BespokeCrypto.csv')"
   ]
  },
  {
   "cell_type": "code",
   "execution_count": 3,
   "metadata": {},
   "outputs": [],
   "source": [
    "#Crypto Currecny Data\n",
    "btc_data = pd.read_csv('data/BTC-USD.csv')\n",
    "eth_data = pd.read_csv('data/ETH-USD.csv')\n",
    "xrp_data = pd.read_csv('data/XRP-USD.csv')\n",
    "doge_data = pd.read_csv('data/DOGE-USD.csv')"
   ]
  },
  {
   "cell_type": "markdown",
   "metadata": {},
   "source": [
    "# **Data Cleaning**"
   ]
  },
  {
   "cell_type": "markdown",
   "metadata": {},
   "source": [
    "We began our data cleaning be examining all of our columns and determining which information would be relevant to answering our research questions. When then dropped any information we deemed irrelevant and then proceeded to clean up our data. Our first cleaning step was to address any nan or missing values, of which there were very little. Then we converted all dates were to be simple strings in a year-month-day format (we are considering using pandas datetime but decide to address that question later during EDA too see which would be more accessible). Then, we changed all of our column titles to be in snake case for continuity thoughout the project. Once our data was cleaned we looked at our twitter and crypto data and combined all of our datasets into shared dataframe in anticipation for analysis (more of this will be done once we begin our EDA)."
   ]
  },
  {
   "cell_type": "markdown",
   "metadata": {},
   "source": [
    "## Cleaning for Twitter Data"
   ]
  },
  {
   "cell_type": "markdown",
   "metadata": {},
   "source": [
    "### Data Prep\n",
    "We found if there were any null values for tweets, and did this for each \"influencer's\" tweets. "
   ]
  },
  {
   "cell_type": "code",
   "execution_count": 4,
   "metadata": {},
   "outputs": [
    {
     "data": {
      "text/plain": [
       "Index(['url', 'date', 'content', 'renderedContent', 'id', 'user', 'outlinks',\n",
       "       'tcooutlinks', 'replyCount', 'retweetCount', 'likeCount', 'quoteCount',\n",
       "       'conversationId', 'lang', 'source', 'sourceUrl', 'sourceLabel', 'media',\n",
       "       'retweetedTweet', 'quotedTweet', 'mentionedUsers', 'coordinates',\n",
       "       'place'],\n",
       "      dtype='object')"
      ]
     },
     "execution_count": 4,
     "metadata": {},
     "output_type": "execute_result"
    }
   ],
   "source": [
    "#Elon as example of data prep process\n",
    "elon_musk_tweets.columns"
   ]
  },
  {
   "cell_type": "markdown",
   "metadata": {},
   "source": [
    "### Column Descriptions:\n",
    "#### Name - Keeping/Removing - Description"
   ]
  },
  {
   "cell_type": "markdown",
   "metadata": {},
   "source": [
    "**url** - removing - provides the url to the tweet  \n",
    "**date** - keeping - provides the date and time for when the tweet was published  \n",
    "**content** - keeping - the actual text of the tweet  \n",
    "**renderedContent** - removing - seems to be a direct repeat of 'content'  \n",
    "**id** - keeping - unique id for each tweet  \n",
    "**user** - keeping - provides user information including name, username, id, description, verified status, and more  \n",
    "**outlinks** - removing - indicates any links to outside websites  \n",
    "**tcooutlinks** - removing - shortend version of links in 'outlinks'  \n",
    "**replyCount** - keeping - number of replies a tweet recieved  \n",
    "**retweetCount** - keeping - number of retweets a tweet recieved  \n",
    "**retweetCount** - keeping - number of retweets a tweet recieved  \n",
    "**likeCount** - keeping - number of likes a tweet recieved  \n",
    "**quoteCount** - keeping - number of times a tweet was quoted \n",
    "**conversationId** - removing - unique id for the conversation  \n",
    "**lang** - removing - the language the tweet was made in  \n",
    "**source** - removing - shows the raw source for where the tweet came from\n",
    "**sourceURL** - removing - cleaned url from the 'source' column  \n",
    "**sourceLabel** - removing - cleaned device name for where the tweet came from  \n",
    "**media** - removing - link to any imbeded photos/videos in the tweet  \n",
    "**retweetedTweet** - removing - link to original tweeted if this is a retweet  \n",
    "**quotedTweet** - removing - link to original tweeted if this tweet is quoting another  \n",
    "**mentionedUsers** - removing - twitter profile information for anyone tagged in the tweet  \n",
    "**coordinates** - removing - show the gps coordinates of any linked location  \n",
    "**place** - removing - shows the place of any linked location"
   ]
  },
  {
   "cell_type": "code",
   "execution_count": 5,
   "metadata": {},
   "outputs": [
    {
     "data": {
      "text/plain": [
       "(False    10000\n",
       " Name: content, dtype: int64,\n",
       " False    10000\n",
       " Name: date, dtype: int64,\n",
       " False    10000\n",
       " Name: id, dtype: int64)"
      ]
     },
     "execution_count": 5,
     "metadata": {},
     "output_type": "execute_result"
    }
   ],
   "source": [
    "#checking for any na values\n",
    "elon_musk_tweets.isna()['content'].value_counts(), elon_musk_tweets.isna()['date'].value_counts(), \\\n",
    "elon_musk_tweets.isna()['id'].value_counts()"
   ]
  },
  {
   "cell_type": "markdown",
   "metadata": {},
   "source": [
    "### Dropping Irrelevant Columns"
   ]
  },
  {
   "cell_type": "code",
   "execution_count": 6,
   "metadata": {},
   "outputs": [],
   "source": [
    "#We found several columns from the dataset description that we decided was not relevant toward the study\n",
    "columns_to_drop = ['url', 'renderedContent', 'outlinks', 'tcooutlinks', 'conversationId', 'lang', 'source', \n",
    "                    'sourceUrl', 'sourceLabel', 'media','retweetedTweet', 'quotedTweet', 'mentionedUsers', \n",
    "                    'coordinates','place']\n",
    "elon_musk_tweets = elon_musk_tweets.drop(columns=columns_to_drop)\n",
    "mark_cuban_tweets = mark_cuban_tweets.drop(columns=columns_to_drop)\n",
    "jack_dorsey_tweets = jack_dorsey_tweets.drop(columns=columns_to_drop)\n",
    "vladimir_tenev_tweets = vladimir_tenev_tweets.drop(columns=columns_to_drop)\n",
    "brian_armstrong_tweets = brian_armstrong_tweets.drop(columns=columns_to_drop)\n",
    "bespoke_crypto_tweets = bespoke_crypto_tweets.drop(columns=columns_to_drop)"
   ]
  },
  {
   "cell_type": "markdown",
   "metadata": {},
   "source": [
    "### Cleaning up Dates"
   ]
  },
  {
   "cell_type": "code",
   "execution_count": 7,
   "metadata": {},
   "outputs": [],
   "source": [
    "#helper functions to clean up date columns\n",
    "def year_from_date(date_time):\n",
    "    year = date_time.split('-')[0]\n",
    "    return int(year)\n",
    "\n",
    "def month_from_date(date_time):\n",
    "    month = date_time.split('-')[1]\n",
    "    return int(month)\n",
    "\n",
    "def day_from_date(date_time):\n",
    "    date = date_time.split(' ')[0]\n",
    "    day = date.split('-')[2]\n",
    "    return int(day)\n",
    "\n",
    "def date_from_date(date_time):\n",
    "    date = date_time.split(' ')[0]\n",
    "    return date\n",
    "\n",
    "def time_from_date(date_time):\n",
    "    date = date_time.split(' ')[1].split('+')[0]\n",
    "    return date"
   ]
  },
  {
   "cell_type": "code",
   "execution_count": 8,
   "metadata": {},
   "outputs": [],
   "source": [
    "#Applying date functions to create columns for year/month/day\n",
    "#Elon Musk\n",
    "elon_musk_tweets = elon_musk_tweets.assign(year = elon_musk_tweets.date.apply(year_from_date))\n",
    "elon_musk_tweets = elon_musk_tweets.assign(month = elon_musk_tweets.date.apply(month_from_date))\n",
    "elon_musk_tweets = elon_musk_tweets.assign(day = elon_musk_tweets.date.apply(day_from_date))\n",
    "elon_musk_tweets = elon_musk_tweets.assign(time = elon_musk_tweets.date.apply(time_from_date))\n",
    "elon_musk_tweets = elon_musk_tweets.assign(date = elon_musk_tweets.date.apply(date_from_date))\n",
    "\n",
    "#Mark Cuban\n",
    "mark_cuban_tweets = mark_cuban_tweets.assign(year = mark_cuban_tweets.date.apply(year_from_date))\n",
    "mark_cuban_tweets = mark_cuban_tweets.assign(month = mark_cuban_tweets.date.apply(month_from_date))\n",
    "mark_cuban_tweets = mark_cuban_tweets.assign(day = mark_cuban_tweets.date.apply(day_from_date))\n",
    "mark_cuban_tweets = mark_cuban_tweets.assign(time = mark_cuban_tweets.date.apply(time_from_date))\n",
    "mark_cuban_tweets = mark_cuban_tweets.assign(date = mark_cuban_tweets.date.apply(date_from_date))\n",
    "\n",
    "#Jack Dorsey\n",
    "jack_dorsey_tweets = jack_dorsey_tweets.assign(year = jack_dorsey_tweets.date.apply(year_from_date))\n",
    "jack_dorsey_tweets = jack_dorsey_tweets.assign(month = jack_dorsey_tweets.date.apply(month_from_date))\n",
    "jack_dorsey_tweets = jack_dorsey_tweets.assign(day = jack_dorsey_tweets.date.apply(day_from_date))\n",
    "jack_dorsey_tweets = jack_dorsey_tweets.assign(time = jack_dorsey_tweets.date.apply(time_from_date))\n",
    "jack_dorsey_tweets = jack_dorsey_tweets.assign(date = jack_dorsey_tweets.date.apply(date_from_date))\n",
    "\n",
    "#Vladimir Tenev\n",
    "vladimir_tenev_tweets = vladimir_tenev_tweets.assign(year = vladimir_tenev_tweets.date.apply(year_from_date))\n",
    "vladimir_tenev_tweets = vladimir_tenev_tweets.assign(month = vladimir_tenev_tweets.date.apply(month_from_date))\n",
    "vladimir_tenev_tweets = vladimir_tenev_tweets.assign(day = vladimir_tenev_tweets.date.apply(day_from_date))\n",
    "vladimir_tenev_tweets = vladimir_tenev_tweets.assign(time = vladimir_tenev_tweets.date.apply(time_from_date))\n",
    "vladimir_tenev_tweets = vladimir_tenev_tweets.assign(date = vladimir_tenev_tweets.date.apply(date_from_date))\n",
    "\n",
    "#Brian Armstrong\n",
    "brian_armstrong_tweets = brian_armstrong_tweets.assign(year = brian_armstrong_tweets.date.apply(year_from_date))\n",
    "brian_armstrong_tweets = brian_armstrong_tweets.assign(month = brian_armstrong_tweets.date.apply(month_from_date))\n",
    "brian_armstrong_tweets = brian_armstrong_tweets.assign(day = brian_armstrong_tweets.date.apply(day_from_date))\n",
    "brian_armstrong_tweets = brian_armstrong_tweets.assign(time = brian_armstrong_tweets.date.apply(time_from_date))\n",
    "brian_armstrong_tweets = brian_armstrong_tweets.assign(date = brian_armstrong_tweets.date.apply(date_from_date))\n",
    "\n",
    "#Bespoke Crypto\n",
    "bespoke_crypto_tweets = bespoke_crypto_tweets.assign(year = elon_musk_tweets.date.apply(year_from_date))\n",
    "bespoke_crypto_tweets = bespoke_crypto_tweets.assign(month = elon_musk_tweets.date.apply(month_from_date))\n",
    "bespoke_crypto_tweets = bespoke_crypto_tweets.assign(day = elon_musk_tweets.date.apply(day_from_date))\n",
    "bespoke_crypto_tweets = bespoke_crypto_tweets.assign(time = bespoke_crypto_tweets.date.apply(time_from_date))\n",
    "bespoke_crypto_tweets = bespoke_crypto_tweets.assign(date = bespoke_crypto_tweets.date.apply(date_from_date))"
   ]
  },
  {
   "cell_type": "markdown",
   "metadata": {},
   "source": [
    "### Cleaning up User Column information"
   ]
  },
  {
   "cell_type": "code",
   "execution_count": 9,
   "metadata": {},
   "outputs": [],
   "source": [
    "#helper function to pull username from dictionary of user information\n",
    "def get_display_name(user):\n",
    "    name = user.split(',')[1].split(\"'\")[3]\n",
    "    return name"
   ]
  },
  {
   "cell_type": "code",
   "execution_count": 10,
   "metadata": {},
   "outputs": [],
   "source": [
    "#Appling username helper function to simplify user column data\n",
    "#Elon Musk\n",
    "elon_musk_tweets = elon_musk_tweets.assign(user = elon_musk_tweets.user.apply(get_display_name))\n",
    "\n",
    "#Mark Cuban\n",
    "mark_cuban_tweets = mark_cuban_tweets.assign(user = mark_cuban_tweets.user.apply(get_display_name))\n",
    "\n",
    "#Jack Dorsey\n",
    "jack_dorsey_tweets = jack_dorsey_tweets.assign(user = jack_dorsey_tweets.user.apply(get_display_name))\n",
    "\n",
    "#Vladimir Tenev\n",
    "vladimir_tenev_tweets = vladimir_tenev_tweets.assign(user = vladimir_tenev_tweets.user.apply(get_display_name))\n",
    "\n",
    "#Brian Armstrong\n",
    "brian_armstrong_tweets = brian_armstrong_tweets.assign(user = brian_armstrong_tweets.user.apply(get_display_name))\n",
    "\n",
    "#Bespoke Crypto\n",
    "bespoke_crypto_tweets = bespoke_crypto_tweets.assign(user = bespoke_crypto_tweets.user.apply(get_display_name))"
   ]
  },
  {
   "cell_type": "markdown",
   "metadata": {},
   "source": [
    "### We are only interested in tweets dating back to 2018 --> Drop earlier dates"
   ]
  },
  {
   "cell_type": "code",
   "execution_count": 11,
   "metadata": {},
   "outputs": [],
   "source": [
    "#Elon Musk\n",
    "elon_musk_tweets = elon_musk_tweets[elon_musk_tweets.get('year') >= 2018]\n",
    "\n",
    "#Mark Cuban\n",
    "mark_cuban_tweets = mark_cuban_tweets[mark_cuban_tweets.get('year') >= 2018]\n",
    "\n",
    "#Jack Dorsey\n",
    "jack_dorsey_tweets = jack_dorsey_tweets[jack_dorsey_tweets.get('year') >= 2018]\n",
    "\n",
    "#Vladimir Tenev\n",
    "vladimir_tenev_tweets = vladimir_tenev_tweets[vladimir_tenev_tweets.get('year') >= 2018]\n",
    "\n",
    "#Brian Armstrong\n",
    "brian_armstrong_tweets = brian_armstrong_tweets[brian_armstrong_tweets.get('year') >= 2018]\n",
    "\n",
    "#Bespoke Crypto\n",
    "bespoke_crypto_tweets = bespoke_crypto_tweets[bespoke_crypto_tweets.get('year') >= 2018]"
   ]
  },
  {
   "cell_type": "markdown",
   "metadata": {},
   "source": [
    "### Rename all column headers to standard snake_case"
   ]
  },
  {
   "cell_type": "code",
   "execution_count": 12,
   "metadata": {},
   "outputs": [
    {
     "data": {
      "text/plain": [
       "Index(['date', 'content', 'id', 'user', 'replyCount', 'retweetCount',\n",
       "       'likeCount', 'quoteCount', 'year', 'month', 'day', 'time'],\n",
       "      dtype='object')"
      ]
     },
     "execution_count": 12,
     "metadata": {},
     "output_type": "execute_result"
    }
   ],
   "source": [
    "elon_musk_tweets.columns"
   ]
  },
  {
   "cell_type": "code",
   "execution_count": 13,
   "metadata": {},
   "outputs": [],
   "source": [
    "elon_musk_tweets = elon_musk_tweets.rename({'replyCount':'reply_count', 'likeCount':'like_count', 'quoteCount':'quote_count', 'retweetCount':'retweet_count'}, axis='columns')\n",
    "mark_cuban_tweets = mark_cuban_tweets.rename({'replyCount':'reply_count', 'likeCount':'like_count', 'quoteCount':'quote_count', 'retweetCount':'retweet_count'}, axis='columns')\n",
    "jack_dorsey_tweets = jack_dorsey_tweets.rename({'replyCount':'reply_count', 'likeCount':'like_count', 'quoteCount':'quote_count', 'retweetCount':'retweet_count'}, axis='columns')\n",
    "vladimir_tenev_tweets = vladimir_tenev_tweets.rename({'replyCount':'reply_count', 'likeCount':'like_count', 'quoteCount':'quote_count', 'retweetCount':'retweet_count'}, axis='columns')\n",
    "brian_armstrong_tweets = brian_armstrong_tweets.rename({'replyCount':'reply_count', 'likeCount':'like_count', 'quoteCount':'quote_count', 'retweetCount':'retweet_count'}, axis='columns')\n",
    "bespoke_crypto_tweets = bespoke_crypto_tweets.rename({'replyCount':'reply_count', 'likeCount':'like_count', 'quoteCount':'quote_count', 'retweetCount':'retweet_count'}, axis='columns')"
   ]
  },
  {
   "cell_type": "code",
   "execution_count": 14,
   "metadata": {},
   "outputs": [
    {
     "data": {
      "text/html": [
       "<div>\n",
       "<style scoped>\n",
       "    .dataframe tbody tr th:only-of-type {\n",
       "        vertical-align: middle;\n",
       "    }\n",
       "\n",
       "    .dataframe tbody tr th {\n",
       "        vertical-align: top;\n",
       "    }\n",
       "\n",
       "    .dataframe thead th {\n",
       "        text-align: right;\n",
       "    }\n",
       "</style>\n",
       "<table border=\"1\" class=\"dataframe\">\n",
       "  <thead>\n",
       "    <tr style=\"text-align: right;\">\n",
       "      <th></th>\n",
       "      <th>date</th>\n",
       "      <th>content</th>\n",
       "      <th>id</th>\n",
       "      <th>user</th>\n",
       "      <th>reply_count</th>\n",
       "      <th>retweet_count</th>\n",
       "      <th>like_count</th>\n",
       "      <th>quote_count</th>\n",
       "      <th>year</th>\n",
       "      <th>month</th>\n",
       "      <th>day</th>\n",
       "      <th>time</th>\n",
       "    </tr>\n",
       "  </thead>\n",
       "  <tbody>\n",
       "    <tr>\n",
       "      <th>0</th>\n",
       "      <td>2018-04-13</td>\n",
       "      <td>Despite the last two day's bounce, adequate sc...</td>\n",
       "      <td>984796747707887619</td>\n",
       "      <td>Bespoke Crypto</td>\n",
       "      <td>0</td>\n",
       "      <td>0</td>\n",
       "      <td>2</td>\n",
       "      <td>0</td>\n",
       "      <td>2021</td>\n",
       "      <td>5</td>\n",
       "      <td>3</td>\n",
       "      <td>14:13:35</td>\n",
       "    </tr>\n",
       "    <tr>\n",
       "      <th>1</th>\n",
       "      <td>2018-03-26</td>\n",
       "      <td>#Bitcoin futures are trading in contango. http...</td>\n",
       "      <td>978384733364252672</td>\n",
       "      <td>Bespoke Crypto</td>\n",
       "      <td>2</td>\n",
       "      <td>3</td>\n",
       "      <td>4</td>\n",
       "      <td>1</td>\n",
       "      <td>2021</td>\n",
       "      <td>5</td>\n",
       "      <td>3</td>\n",
       "      <td>21:34:32</td>\n",
       "    </tr>\n",
       "    <tr>\n",
       "      <th>2</th>\n",
       "      <td>2018-03-16</td>\n",
       "      <td>The first bitcoin mining ban?\\n\\nhttps://t.co/...</td>\n",
       "      <td>974766693682688000</td>\n",
       "      <td>Bespoke Crypto</td>\n",
       "      <td>0</td>\n",
       "      <td>0</td>\n",
       "      <td>0</td>\n",
       "      <td>0</td>\n",
       "      <td>2021</td>\n",
       "      <td>5</td>\n",
       "      <td>3</td>\n",
       "      <td>21:57:44</td>\n",
       "    </tr>\n",
       "    <tr>\n",
       "      <th>3</th>\n",
       "      <td>2018-03-07</td>\n",
       "      <td>Recent price action could also possibly be exp...</td>\n",
       "      <td>971444160485117957</td>\n",
       "      <td>Bespoke Crypto</td>\n",
       "      <td>0</td>\n",
       "      <td>0</td>\n",
       "      <td>0</td>\n",
       "      <td>0</td>\n",
       "      <td>2021</td>\n",
       "      <td>5</td>\n",
       "      <td>2</td>\n",
       "      <td>17:55:11</td>\n",
       "    </tr>\n",
       "    <tr>\n",
       "      <th>4</th>\n",
       "      <td>2018-03-07</td>\n",
       "      <td>A popular trading bot used on Binance has been...</td>\n",
       "      <td>971432353326301189</td>\n",
       "      <td>Bespoke Crypto</td>\n",
       "      <td>0</td>\n",
       "      <td>0</td>\n",
       "      <td>1</td>\n",
       "      <td>0</td>\n",
       "      <td>2021</td>\n",
       "      <td>5</td>\n",
       "      <td>2</td>\n",
       "      <td>17:08:16</td>\n",
       "    </tr>\n",
       "  </tbody>\n",
       "</table>\n",
       "</div>"
      ],
      "text/plain": [
       "         date                                            content  \\\n",
       "0  2018-04-13  Despite the last two day's bounce, adequate sc...   \n",
       "1  2018-03-26  #Bitcoin futures are trading in contango. http...   \n",
       "2  2018-03-16  The first bitcoin mining ban?\\n\\nhttps://t.co/...   \n",
       "3  2018-03-07  Recent price action could also possibly be exp...   \n",
       "4  2018-03-07  A popular trading bot used on Binance has been...   \n",
       "\n",
       "                   id            user  reply_count  retweet_count  like_count  \\\n",
       "0  984796747707887619  Bespoke Crypto            0              0           2   \n",
       "1  978384733364252672  Bespoke Crypto            2              3           4   \n",
       "2  974766693682688000  Bespoke Crypto            0              0           0   \n",
       "3  971444160485117957  Bespoke Crypto            0              0           0   \n",
       "4  971432353326301189  Bespoke Crypto            0              0           1   \n",
       "\n",
       "   quote_count  year  month  day      time  \n",
       "0            0  2021      5    3  14:13:35  \n",
       "1            1  2021      5    3  21:34:32  \n",
       "2            0  2021      5    3  21:57:44  \n",
       "3            0  2021      5    2  17:55:11  \n",
       "4            0  2021      5    2  17:08:16  "
      ]
     },
     "execution_count": 14,
     "metadata": {},
     "output_type": "execute_result"
    }
   ],
   "source": [
    "bespoke_crypto_tweets.head()"
   ]
  },
  {
   "cell_type": "markdown",
   "metadata": {},
   "source": [
    "### Combine all Influencer's tweets into a common dataframe"
   ]
  },
  {
   "cell_type": "code",
   "execution_count": 15,
   "metadata": {},
   "outputs": [],
   "source": [
    "tweets = (elon_musk_tweets.merge(mark_cuban_tweets, how='outer')\n",
    "                        .merge(jack_dorsey_tweets, how='outer')\n",
    "                        .merge(vladimir_tenev_tweets, how='outer')\n",
    "                        .merge(brian_armstrong_tweets, how='outer')\n",
    "                        .merge(bespoke_crypto_tweets, how='outer'))"
   ]
  },
  {
   "cell_type": "code",
   "execution_count": 16,
   "metadata": {},
   "outputs": [
    {
     "data": {
      "text/plain": [
       "True"
      ]
     },
     "execution_count": 16,
     "metadata": {},
     "output_type": "execute_result"
    }
   ],
   "source": [
    "#check to make sure all tweets were preserved during the merge\n",
    "total_num_tweet = elon_musk_tweets.shape[0] + mark_cuban_tweets.shape[0] + jack_dorsey_tweets.shape[0] \\\n",
    "                    + vladimir_tenev_tweets.shape[0] + brian_armstrong_tweets.shape[0] \\\n",
    "                    + bespoke_crypto_tweets.shape[0]\n",
    "total_num_tweet == tweets.shape[0]"
   ]
  },
  {
   "cell_type": "markdown",
   "metadata": {},
   "source": [
    "### Final Cleaned Twitter Datasets"
   ]
  },
  {
   "cell_type": "code",
   "execution_count": 17,
   "metadata": {},
   "outputs": [
    {
     "data": {
      "text/html": [
       "<div>\n",
       "<style scoped>\n",
       "    .dataframe tbody tr th:only-of-type {\n",
       "        vertical-align: middle;\n",
       "    }\n",
       "\n",
       "    .dataframe tbody tr th {\n",
       "        vertical-align: top;\n",
       "    }\n",
       "\n",
       "    .dataframe thead th {\n",
       "        text-align: right;\n",
       "    }\n",
       "</style>\n",
       "<table border=\"1\" class=\"dataframe\">\n",
       "  <thead>\n",
       "    <tr style=\"text-align: right;\">\n",
       "      <th></th>\n",
       "      <th>date</th>\n",
       "      <th>content</th>\n",
       "      <th>id</th>\n",
       "      <th>user</th>\n",
       "      <th>reply_count</th>\n",
       "      <th>retweet_count</th>\n",
       "      <th>like_count</th>\n",
       "      <th>quote_count</th>\n",
       "      <th>year</th>\n",
       "      <th>month</th>\n",
       "      <th>day</th>\n",
       "      <th>time</th>\n",
       "    </tr>\n",
       "  </thead>\n",
       "  <tbody>\n",
       "    <tr>\n",
       "      <th>0</th>\n",
       "      <td>2021-05-03</td>\n",
       "      <td>@MeetLuis @WARREZ420 @WholeMarsBlog Rawlinson ...</td>\n",
       "      <td>1389270326073253889</td>\n",
       "      <td>Elon Musk</td>\n",
       "      <td>368</td>\n",
       "      <td>219</td>\n",
       "      <td>2281</td>\n",
       "      <td>100</td>\n",
       "      <td>2021</td>\n",
       "      <td>5</td>\n",
       "      <td>3</td>\n",
       "      <td>17:27:11</td>\n",
       "    </tr>\n",
       "    <tr>\n",
       "      <th>1</th>\n",
       "      <td>2021-05-03</td>\n",
       "      <td>@spacex360 So great to see the happy faces!</td>\n",
       "      <td>1389126650508480512</td>\n",
       "      <td>Elon Musk</td>\n",
       "      <td>774</td>\n",
       "      <td>943</td>\n",
       "      <td>29807</td>\n",
       "      <td>42</td>\n",
       "      <td>2021</td>\n",
       "      <td>5</td>\n",
       "      <td>3</td>\n",
       "      <td>07:56:16</td>\n",
       "    </tr>\n",
       "    <tr>\n",
       "      <th>2</th>\n",
       "      <td>2021-05-03</td>\n",
       "      <td>@utsavtechie Prototypes are easy, production i...</td>\n",
       "      <td>1389102532706848768</td>\n",
       "      <td>Elon Musk</td>\n",
       "      <td>2791</td>\n",
       "      <td>8029</td>\n",
       "      <td>159645</td>\n",
       "      <td>648</td>\n",
       "      <td>2021</td>\n",
       "      <td>5</td>\n",
       "      <td>3</td>\n",
       "      <td>06:20:26</td>\n",
       "    </tr>\n",
       "    <tr>\n",
       "      <th>3</th>\n",
       "      <td>2021-05-02</td>\n",
       "      <td>@heydave7 @Tesla A remarkable junction in history</td>\n",
       "      <td>1388980879175954433</td>\n",
       "      <td>Elon Musk</td>\n",
       "      <td>918</td>\n",
       "      <td>865</td>\n",
       "      <td>16742</td>\n",
       "      <td>71</td>\n",
       "      <td>2021</td>\n",
       "      <td>5</td>\n",
       "      <td>2</td>\n",
       "      <td>22:17:02</td>\n",
       "    </tr>\n",
       "    <tr>\n",
       "      <th>4</th>\n",
       "      <td>2021-05-02</td>\n",
       "      <td>@jaentwistle One of many reasons why we need l...</td>\n",
       "      <td>1388963849043419140</td>\n",
       "      <td>Elon Musk</td>\n",
       "      <td>1152</td>\n",
       "      <td>1474</td>\n",
       "      <td>32663</td>\n",
       "      <td>78</td>\n",
       "      <td>2021</td>\n",
       "      <td>5</td>\n",
       "      <td>2</td>\n",
       "      <td>21:09:21</td>\n",
       "    </tr>\n",
       "  </tbody>\n",
       "</table>\n",
       "</div>"
      ],
      "text/plain": [
       "         date                                            content  \\\n",
       "0  2021-05-03  @MeetLuis @WARREZ420 @WholeMarsBlog Rawlinson ...   \n",
       "1  2021-05-03        @spacex360 So great to see the happy faces!   \n",
       "2  2021-05-03  @utsavtechie Prototypes are easy, production i...   \n",
       "3  2021-05-02  @heydave7 @Tesla A remarkable junction in history   \n",
       "4  2021-05-02  @jaentwistle One of many reasons why we need l...   \n",
       "\n",
       "                    id       user  reply_count  retweet_count  like_count  \\\n",
       "0  1389270326073253889  Elon Musk          368            219        2281   \n",
       "1  1389126650508480512  Elon Musk          774            943       29807   \n",
       "2  1389102532706848768  Elon Musk         2791           8029      159645   \n",
       "3  1388980879175954433  Elon Musk          918            865       16742   \n",
       "4  1388963849043419140  Elon Musk         1152           1474       32663   \n",
       "\n",
       "   quote_count  year  month  day      time  \n",
       "0          100  2021      5    3  17:27:11  \n",
       "1           42  2021      5    3  07:56:16  \n",
       "2          648  2021      5    3  06:20:26  \n",
       "3           71  2021      5    2  22:17:02  \n",
       "4           78  2021      5    2  21:09:21  "
      ]
     },
     "execution_count": 17,
     "metadata": {},
     "output_type": "execute_result"
    }
   ],
   "source": [
    "#Only showed Elon Musk's dataset considering all others are the same\n",
    "elon_musk_tweets.head()"
   ]
  },
  {
   "cell_type": "code",
   "execution_count": 18,
   "metadata": {},
   "outputs": [
    {
     "data": {
      "text/html": [
       "<div>\n",
       "<style scoped>\n",
       "    .dataframe tbody tr th:only-of-type {\n",
       "        vertical-align: middle;\n",
       "    }\n",
       "\n",
       "    .dataframe tbody tr th {\n",
       "        vertical-align: top;\n",
       "    }\n",
       "\n",
       "    .dataframe thead th {\n",
       "        text-align: right;\n",
       "    }\n",
       "</style>\n",
       "<table border=\"1\" class=\"dataframe\">\n",
       "  <thead>\n",
       "    <tr style=\"text-align: right;\">\n",
       "      <th></th>\n",
       "      <th>date</th>\n",
       "      <th>content</th>\n",
       "      <th>id</th>\n",
       "      <th>user</th>\n",
       "      <th>reply_count</th>\n",
       "      <th>retweet_count</th>\n",
       "      <th>like_count</th>\n",
       "      <th>quote_count</th>\n",
       "      <th>year</th>\n",
       "      <th>month</th>\n",
       "      <th>day</th>\n",
       "      <th>time</th>\n",
       "    </tr>\n",
       "  </thead>\n",
       "  <tbody>\n",
       "    <tr>\n",
       "      <th>0</th>\n",
       "      <td>2021-05-03</td>\n",
       "      <td>@MeetLuis @WARREZ420 @WholeMarsBlog Rawlinson ...</td>\n",
       "      <td>1389270326073253889</td>\n",
       "      <td>Elon Musk</td>\n",
       "      <td>368</td>\n",
       "      <td>219</td>\n",
       "      <td>2281</td>\n",
       "      <td>100</td>\n",
       "      <td>2021</td>\n",
       "      <td>5</td>\n",
       "      <td>3</td>\n",
       "      <td>17:27:11</td>\n",
       "    </tr>\n",
       "    <tr>\n",
       "      <th>1</th>\n",
       "      <td>2021-05-03</td>\n",
       "      <td>@spacex360 So great to see the happy faces!</td>\n",
       "      <td>1389126650508480512</td>\n",
       "      <td>Elon Musk</td>\n",
       "      <td>774</td>\n",
       "      <td>943</td>\n",
       "      <td>29807</td>\n",
       "      <td>42</td>\n",
       "      <td>2021</td>\n",
       "      <td>5</td>\n",
       "      <td>3</td>\n",
       "      <td>07:56:16</td>\n",
       "    </tr>\n",
       "    <tr>\n",
       "      <th>2</th>\n",
       "      <td>2021-05-03</td>\n",
       "      <td>@utsavtechie Prototypes are easy, production i...</td>\n",
       "      <td>1389102532706848768</td>\n",
       "      <td>Elon Musk</td>\n",
       "      <td>2791</td>\n",
       "      <td>8029</td>\n",
       "      <td>159645</td>\n",
       "      <td>648</td>\n",
       "      <td>2021</td>\n",
       "      <td>5</td>\n",
       "      <td>3</td>\n",
       "      <td>06:20:26</td>\n",
       "    </tr>\n",
       "    <tr>\n",
       "      <th>3</th>\n",
       "      <td>2021-05-02</td>\n",
       "      <td>@heydave7 @Tesla A remarkable junction in history</td>\n",
       "      <td>1388980879175954433</td>\n",
       "      <td>Elon Musk</td>\n",
       "      <td>918</td>\n",
       "      <td>865</td>\n",
       "      <td>16742</td>\n",
       "      <td>71</td>\n",
       "      <td>2021</td>\n",
       "      <td>5</td>\n",
       "      <td>2</td>\n",
       "      <td>22:17:02</td>\n",
       "    </tr>\n",
       "    <tr>\n",
       "      <th>4</th>\n",
       "      <td>2021-05-02</td>\n",
       "      <td>@jaentwistle One of many reasons why we need l...</td>\n",
       "      <td>1388963849043419140</td>\n",
       "      <td>Elon Musk</td>\n",
       "      <td>1152</td>\n",
       "      <td>1474</td>\n",
       "      <td>32663</td>\n",
       "      <td>78</td>\n",
       "      <td>2021</td>\n",
       "      <td>5</td>\n",
       "      <td>2</td>\n",
       "      <td>21:09:21</td>\n",
       "    </tr>\n",
       "  </tbody>\n",
       "</table>\n",
       "</div>"
      ],
      "text/plain": [
       "         date                                            content  \\\n",
       "0  2021-05-03  @MeetLuis @WARREZ420 @WholeMarsBlog Rawlinson ...   \n",
       "1  2021-05-03        @spacex360 So great to see the happy faces!   \n",
       "2  2021-05-03  @utsavtechie Prototypes are easy, production i...   \n",
       "3  2021-05-02  @heydave7 @Tesla A remarkable junction in history   \n",
       "4  2021-05-02  @jaentwistle One of many reasons why we need l...   \n",
       "\n",
       "                    id       user  reply_count  retweet_count  like_count  \\\n",
       "0  1389270326073253889  Elon Musk          368            219        2281   \n",
       "1  1389126650508480512  Elon Musk          774            943       29807   \n",
       "2  1389102532706848768  Elon Musk         2791           8029      159645   \n",
       "3  1388980879175954433  Elon Musk          918            865       16742   \n",
       "4  1388963849043419140  Elon Musk         1152           1474       32663   \n",
       "\n",
       "   quote_count  year  month  day      time  \n",
       "0          100  2021      5    3  17:27:11  \n",
       "1           42  2021      5    3  07:56:16  \n",
       "2          648  2021      5    3  06:20:26  \n",
       "3           71  2021      5    2  22:17:02  \n",
       "4           78  2021      5    2  21:09:21  "
      ]
     },
     "execution_count": 18,
     "metadata": {},
     "output_type": "execute_result"
    }
   ],
   "source": [
    "#Combined dataset with all influencers in it. Looks exact same as above but is much larger.\n",
    "tweets.head()"
   ]
  },
  {
   "cell_type": "code",
   "execution_count": 19,
   "metadata": {},
   "outputs": [
    {
     "data": {
      "text/plain": [
       "((9502, 12), (16103, 12))"
      ]
     },
     "execution_count": 19,
     "metadata": {},
     "output_type": "execute_result"
    }
   ],
   "source": [
    "elon_musk_tweets.shape, tweets.shape"
   ]
  },
  {
   "cell_type": "markdown",
   "metadata": {},
   "source": [
    "## Cleaning for Crypto Currency Data"
   ]
  },
  {
   "cell_type": "markdown",
   "metadata": {},
   "source": [
    "### Column Descriptions:\n",
    "#### Name - Keeping/Removing - Description"
   ]
  },
  {
   "cell_type": "markdown",
   "metadata": {},
   "source": [
    "**Date** - keeping - the date. We took data for each day the market was open since 2018 (Jan 1) until yesterday (4/27/2021). We picked 4/27 because some of the cryptocurrencies didn't have data available for today yet.  \n",
    "**Open** - keeping - The price of the cryptocurrency when the market opens for the day.  \n",
    "**High** - keeping - The highest price of the cryptocurrency for a given day.  \n",
    "**Low** - keeping - The lowest price of the cryptocurrency for a given day.  \n",
    "**Close** - keeping - The price of the cryptocurrency when the market closes for the day.  \n",
    "**Adj Close** - keeping - Stands for adjusted closing price. The adjusted closing price amends a stock's closing price to reflect that stock's value after accounting for any corporate actions. These appear to be the same as the normal closing price (Close).  \n",
    "**Volume** - keeping - The amount of the cryptocurrency traded. More specifically, the volume is the value of all transactions for the given day.  "
   ]
  },
  {
   "cell_type": "code",
   "execution_count": 20,
   "metadata": {},
   "outputs": [
    {
     "data": {
      "text/plain": [
       "False    1209\n",
       "True        4\n",
       "Name: Open, dtype: int64"
      ]
     },
     "execution_count": 20,
     "metadata": {},
     "output_type": "execute_result"
    }
   ],
   "source": [
    "#checking to find an na values\n",
    "doge_na = doge_data.isna()\n",
    "doge_na['Open'].value_counts()"
   ]
  },
  {
   "cell_type": "code",
   "execution_count": 21,
   "metadata": {},
   "outputs": [],
   "source": [
    "# The four na values above are the exact same dates across all 4 of our crypto data sets, we assume there was an issue with Yahoo Finance during these days such that the values\n",
    "# didnt get recorded. We are planning to keep these values in so there is date continuity but were will not use them in our analysis."
   ]
  },
  {
   "cell_type": "code",
   "execution_count": 22,
   "metadata": {},
   "outputs": [
    {
     "data": {
      "text/html": [
       "<div>\n",
       "<style scoped>\n",
       "    .dataframe tbody tr th:only-of-type {\n",
       "        vertical-align: middle;\n",
       "    }\n",
       "\n",
       "    .dataframe tbody tr th {\n",
       "        vertical-align: top;\n",
       "    }\n",
       "\n",
       "    .dataframe thead th {\n",
       "        text-align: right;\n",
       "    }\n",
       "</style>\n",
       "<table border=\"1\" class=\"dataframe\">\n",
       "  <thead>\n",
       "    <tr style=\"text-align: right;\">\n",
       "      <th></th>\n",
       "      <th>Date</th>\n",
       "      <th>Open</th>\n",
       "      <th>High</th>\n",
       "      <th>Low</th>\n",
       "      <th>Close</th>\n",
       "      <th>Adj Close</th>\n",
       "      <th>Volume</th>\n",
       "      <th>price change</th>\n",
       "    </tr>\n",
       "  </thead>\n",
       "  <tbody>\n",
       "    <tr>\n",
       "      <th>0</th>\n",
       "      <td>2018-01-01</td>\n",
       "      <td>14112.200195</td>\n",
       "      <td>14112.200195</td>\n",
       "      <td>13154.700195</td>\n",
       "      <td>13657.200195</td>\n",
       "      <td>13657.200195</td>\n",
       "      <td>1.029120e+10</td>\n",
       "      <td>-455.000000</td>\n",
       "    </tr>\n",
       "    <tr>\n",
       "      <th>1</th>\n",
       "      <td>2018-01-02</td>\n",
       "      <td>13625.000000</td>\n",
       "      <td>15444.599609</td>\n",
       "      <td>13163.599609</td>\n",
       "      <td>14982.099609</td>\n",
       "      <td>14982.099609</td>\n",
       "      <td>1.684660e+10</td>\n",
       "      <td>1357.099609</td>\n",
       "    </tr>\n",
       "    <tr>\n",
       "      <th>2</th>\n",
       "      <td>2018-01-03</td>\n",
       "      <td>14978.200195</td>\n",
       "      <td>15572.799805</td>\n",
       "      <td>14844.500000</td>\n",
       "      <td>15201.000000</td>\n",
       "      <td>15201.000000</td>\n",
       "      <td>1.687190e+10</td>\n",
       "      <td>222.799805</td>\n",
       "    </tr>\n",
       "    <tr>\n",
       "      <th>3</th>\n",
       "      <td>2018-01-04</td>\n",
       "      <td>15270.700195</td>\n",
       "      <td>15739.700195</td>\n",
       "      <td>14522.200195</td>\n",
       "      <td>15599.200195</td>\n",
       "      <td>15599.200195</td>\n",
       "      <td>2.178320e+10</td>\n",
       "      <td>328.500000</td>\n",
       "    </tr>\n",
       "    <tr>\n",
       "      <th>4</th>\n",
       "      <td>2018-01-05</td>\n",
       "      <td>15477.200195</td>\n",
       "      <td>17705.199219</td>\n",
       "      <td>15202.799805</td>\n",
       "      <td>17429.500000</td>\n",
       "      <td>17429.500000</td>\n",
       "      <td>2.384090e+10</td>\n",
       "      <td>1952.299805</td>\n",
       "    </tr>\n",
       "  </tbody>\n",
       "</table>\n",
       "</div>"
      ],
      "text/plain": [
       "         Date          Open          High           Low         Close  \\\n",
       "0  2018-01-01  14112.200195  14112.200195  13154.700195  13657.200195   \n",
       "1  2018-01-02  13625.000000  15444.599609  13163.599609  14982.099609   \n",
       "2  2018-01-03  14978.200195  15572.799805  14844.500000  15201.000000   \n",
       "3  2018-01-04  15270.700195  15739.700195  14522.200195  15599.200195   \n",
       "4  2018-01-05  15477.200195  17705.199219  15202.799805  17429.500000   \n",
       "\n",
       "      Adj Close        Volume  price change  \n",
       "0  13657.200195  1.029120e+10   -455.000000  \n",
       "1  14982.099609  1.684660e+10   1357.099609  \n",
       "2  15201.000000  1.687190e+10    222.799805  \n",
       "3  15599.200195  2.178320e+10    328.500000  \n",
       "4  17429.500000  2.384090e+10   1952.299805  "
      ]
     },
     "execution_count": 22,
     "metadata": {},
     "output_type": "execute_result"
    }
   ],
   "source": [
    "#make a new column for daily price change\n",
    "btc_data['price change'] = btc_data['Close'] - btc_data['Open']\n",
    "eth_data['price change'] = eth_data['Close'] - eth_data['Open']\n",
    "xrp_data['price change'] = xrp_data['Close'] - xrp_data['Open']\n",
    "doge_data['price change'] = doge_data['Close'] - doge_data['Open']\n",
    "btc_data.head()"
   ]
  },
  {
   "cell_type": "markdown",
   "metadata": {},
   "source": [
    "### Change the Column names to standardized snake case"
   ]
  },
  {
   "cell_type": "code",
   "execution_count": 23,
   "metadata": {},
   "outputs": [],
   "source": [
    "btc_data = btc_data.rename({'Date':'date', 'Open':'open', 'High':'high', 'Low':'low', 'Close':'close', 'Adj Close':'adj_close', 'Volume':'volume', 'price change':'price_change'}, axis='columns')\n",
    "eth_data = eth_data.rename({'Date':'date', 'Open':'open', 'High':'high', 'Low':'low', 'Close':'close', 'Adj Close':'adj_close', 'Volume':'volume', 'price change':'price_change'}, axis='columns')\n",
    "xrp_data = xrp_data.rename({'Date':'date', 'Open':'open', 'High':'high', 'Low':'low', 'Close':'close', 'Adj Close':'adj_close', 'Volume':'volume', 'price change':'price_change'}, axis='columns')\n",
    "doge_data = doge_data.rename({'Date':'date', 'Open':'open', 'High':'high', 'Low':'low', 'Close':'close', 'Adj Close':'adj_close', 'Volume':'volume', 'price change':'price_change'}, axis='columns')"
   ]
  },
  {
   "cell_type": "code",
   "execution_count": 24,
   "metadata": {},
   "outputs": [
    {
     "data": {
      "text/html": [
       "<div>\n",
       "<style scoped>\n",
       "    .dataframe tbody tr th:only-of-type {\n",
       "        vertical-align: middle;\n",
       "    }\n",
       "\n",
       "    .dataframe tbody tr th {\n",
       "        vertical-align: top;\n",
       "    }\n",
       "\n",
       "    .dataframe thead th {\n",
       "        text-align: right;\n",
       "    }\n",
       "</style>\n",
       "<table border=\"1\" class=\"dataframe\">\n",
       "  <thead>\n",
       "    <tr style=\"text-align: right;\">\n",
       "      <th></th>\n",
       "      <th>date</th>\n",
       "      <th>btc_price</th>\n",
       "      <th>eth_price</th>\n",
       "      <th>xrp_price</th>\n",
       "      <th>doge_price</th>\n",
       "    </tr>\n",
       "  </thead>\n",
       "  <tbody>\n",
       "    <tr>\n",
       "      <th>0</th>\n",
       "      <td>2018-01-01</td>\n",
       "      <td>13657.200195</td>\n",
       "      <td>772.640991</td>\n",
       "      <td>2.39103</td>\n",
       "      <td>0.008909</td>\n",
       "    </tr>\n",
       "    <tr>\n",
       "      <th>1</th>\n",
       "      <td>2018-01-02</td>\n",
       "      <td>14982.099609</td>\n",
       "      <td>884.443970</td>\n",
       "      <td>2.48090</td>\n",
       "      <td>0.009145</td>\n",
       "    </tr>\n",
       "    <tr>\n",
       "      <th>2</th>\n",
       "      <td>2018-01-03</td>\n",
       "      <td>15201.000000</td>\n",
       "      <td>962.719971</td>\n",
       "      <td>3.10537</td>\n",
       "      <td>0.009320</td>\n",
       "    </tr>\n",
       "    <tr>\n",
       "      <th>3</th>\n",
       "      <td>2018-01-04</td>\n",
       "      <td>15599.200195</td>\n",
       "      <td>980.921997</td>\n",
       "      <td>3.19663</td>\n",
       "      <td>0.009644</td>\n",
       "    </tr>\n",
       "    <tr>\n",
       "      <th>4</th>\n",
       "      <td>2018-01-05</td>\n",
       "      <td>17429.500000</td>\n",
       "      <td>997.719971</td>\n",
       "      <td>3.04871</td>\n",
       "      <td>0.012167</td>\n",
       "    </tr>\n",
       "  </tbody>\n",
       "</table>\n",
       "</div>"
      ],
      "text/plain": [
       "         date     btc_price   eth_price  xrp_price  doge_price\n",
       "0  2018-01-01  13657.200195  772.640991    2.39103    0.008909\n",
       "1  2018-01-02  14982.099609  884.443970    2.48090    0.009145\n",
       "2  2018-01-03  15201.000000  962.719971    3.10537    0.009320\n",
       "3  2018-01-04  15599.200195  980.921997    3.19663    0.009644\n",
       "4  2018-01-05  17429.500000  997.719971    3.04871    0.012167"
      ]
     },
     "execution_count": 24,
     "metadata": {},
     "output_type": "execute_result"
    }
   ],
   "source": [
    "#dataframe of closing prices by day:\n",
    "#we know for sure that bitcoin has all the dates we want, so I'll just use the dates from the btc dataframe.\n",
    "closing_prices = [btc_data['date'], btc_data['close'], eth_data['close'], xrp_data['close'], doge_data['close']]\n",
    "closing_prices_headers = ['date', 'btc_price', 'eth_price', 'xrp_price', 'doge_price']\n",
    "\n",
    "price_by_day = pd.concat(closing_prices, axis = 1, keys = closing_prices_headers)\n",
    "price_by_day.head()"
   ]
  },
  {
   "cell_type": "code",
   "execution_count": 25,
   "metadata": {},
   "outputs": [
    {
     "data": {
      "text/html": [
       "<div>\n",
       "<style scoped>\n",
       "    .dataframe tbody tr th:only-of-type {\n",
       "        vertical-align: middle;\n",
       "    }\n",
       "\n",
       "    .dataframe tbody tr th {\n",
       "        vertical-align: top;\n",
       "    }\n",
       "\n",
       "    .dataframe thead th {\n",
       "        text-align: right;\n",
       "    }\n",
       "</style>\n",
       "<table border=\"1\" class=\"dataframe\">\n",
       "  <thead>\n",
       "    <tr style=\"text-align: right;\">\n",
       "      <th></th>\n",
       "      <th>date</th>\n",
       "      <th>btc_change</th>\n",
       "      <th>eth_change</th>\n",
       "      <th>xrp_change</th>\n",
       "      <th>doge_change</th>\n",
       "    </tr>\n",
       "  </thead>\n",
       "  <tbody>\n",
       "    <tr>\n",
       "      <th>0</th>\n",
       "      <td>2018-01-01</td>\n",
       "      <td>-455.000000</td>\n",
       "      <td>16.883972</td>\n",
       "      <td>0.09501</td>\n",
       "      <td>-0.000122</td>\n",
       "    </tr>\n",
       "    <tr>\n",
       "      <th>1</th>\n",
       "      <td>2018-01-02</td>\n",
       "      <td>1357.099609</td>\n",
       "      <td>112.097962</td>\n",
       "      <td>0.11142</td>\n",
       "      <td>0.000272</td>\n",
       "    </tr>\n",
       "    <tr>\n",
       "      <th>2</th>\n",
       "      <td>2018-01-03</td>\n",
       "      <td>222.799805</td>\n",
       "      <td>76.719971</td>\n",
       "      <td>0.64127</td>\n",
       "      <td>0.000232</td>\n",
       "    </tr>\n",
       "    <tr>\n",
       "      <th>3</th>\n",
       "      <td>2018-01-04</td>\n",
       "      <td>328.500000</td>\n",
       "      <td>19.208984</td>\n",
       "      <td>0.07929</td>\n",
       "      <td>0.000298</td>\n",
       "    </tr>\n",
       "    <tr>\n",
       "      <th>4</th>\n",
       "      <td>2018-01-05</td>\n",
       "      <td>1952.299805</td>\n",
       "      <td>21.969971</td>\n",
       "      <td>-0.25210</td>\n",
       "      <td>0.002507</td>\n",
       "    </tr>\n",
       "  </tbody>\n",
       "</table>\n",
       "</div>"
      ],
      "text/plain": [
       "         date   btc_change  eth_change  xrp_change  doge_change\n",
       "0  2018-01-01  -455.000000   16.883972     0.09501    -0.000122\n",
       "1  2018-01-02  1357.099609  112.097962     0.11142     0.000272\n",
       "2  2018-01-03   222.799805   76.719971     0.64127     0.000232\n",
       "3  2018-01-04   328.500000   19.208984     0.07929     0.000298\n",
       "4  2018-01-05  1952.299805   21.969971    -0.25210     0.002507"
      ]
     },
     "execution_count": 25,
     "metadata": {},
     "output_type": "execute_result"
    }
   ],
   "source": [
    "#Dataframe of price changes by day\n",
    "closing_changes = [btc_data['date'], btc_data['price_change'], eth_data['price_change'], xrp_data['price_change'], doge_data['price_change']]\n",
    "closing_changes_headers = ['date', 'btc_change', 'eth_change', 'xrp_change', 'doge_change']\n",
    "\n",
    "change_by_day = pd.concat(closing_changes, axis = 1, keys = closing_changes_headers)\n",
    "change_by_day.head()"
   ]
  },
  {
   "cell_type": "markdown",
   "metadata": {},
   "source": [
    "### Final Cleaned Crypto Currency Datasets"
   ]
  },
  {
   "cell_type": "code",
   "execution_count": 26,
   "metadata": {},
   "outputs": [
    {
     "data": {
      "text/html": [
       "<div>\n",
       "<style scoped>\n",
       "    .dataframe tbody tr th:only-of-type {\n",
       "        vertical-align: middle;\n",
       "    }\n",
       "\n",
       "    .dataframe tbody tr th {\n",
       "        vertical-align: top;\n",
       "    }\n",
       "\n",
       "    .dataframe thead th {\n",
       "        text-align: right;\n",
       "    }\n",
       "</style>\n",
       "<table border=\"1\" class=\"dataframe\">\n",
       "  <thead>\n",
       "    <tr style=\"text-align: right;\">\n",
       "      <th></th>\n",
       "      <th>date</th>\n",
       "      <th>open</th>\n",
       "      <th>high</th>\n",
       "      <th>low</th>\n",
       "      <th>close</th>\n",
       "      <th>adj_close</th>\n",
       "      <th>volume</th>\n",
       "      <th>price_change</th>\n",
       "    </tr>\n",
       "  </thead>\n",
       "  <tbody>\n",
       "    <tr>\n",
       "      <th>0</th>\n",
       "      <td>2018-01-01</td>\n",
       "      <td>14112.200195</td>\n",
       "      <td>14112.200195</td>\n",
       "      <td>13154.700195</td>\n",
       "      <td>13657.200195</td>\n",
       "      <td>13657.200195</td>\n",
       "      <td>1.029120e+10</td>\n",
       "      <td>-455.000000</td>\n",
       "    </tr>\n",
       "    <tr>\n",
       "      <th>1</th>\n",
       "      <td>2018-01-02</td>\n",
       "      <td>13625.000000</td>\n",
       "      <td>15444.599609</td>\n",
       "      <td>13163.599609</td>\n",
       "      <td>14982.099609</td>\n",
       "      <td>14982.099609</td>\n",
       "      <td>1.684660e+10</td>\n",
       "      <td>1357.099609</td>\n",
       "    </tr>\n",
       "    <tr>\n",
       "      <th>2</th>\n",
       "      <td>2018-01-03</td>\n",
       "      <td>14978.200195</td>\n",
       "      <td>15572.799805</td>\n",
       "      <td>14844.500000</td>\n",
       "      <td>15201.000000</td>\n",
       "      <td>15201.000000</td>\n",
       "      <td>1.687190e+10</td>\n",
       "      <td>222.799805</td>\n",
       "    </tr>\n",
       "    <tr>\n",
       "      <th>3</th>\n",
       "      <td>2018-01-04</td>\n",
       "      <td>15270.700195</td>\n",
       "      <td>15739.700195</td>\n",
       "      <td>14522.200195</td>\n",
       "      <td>15599.200195</td>\n",
       "      <td>15599.200195</td>\n",
       "      <td>2.178320e+10</td>\n",
       "      <td>328.500000</td>\n",
       "    </tr>\n",
       "    <tr>\n",
       "      <th>4</th>\n",
       "      <td>2018-01-05</td>\n",
       "      <td>15477.200195</td>\n",
       "      <td>17705.199219</td>\n",
       "      <td>15202.799805</td>\n",
       "      <td>17429.500000</td>\n",
       "      <td>17429.500000</td>\n",
       "      <td>2.384090e+10</td>\n",
       "      <td>1952.299805</td>\n",
       "    </tr>\n",
       "  </tbody>\n",
       "</table>\n",
       "</div>"
      ],
      "text/plain": [
       "         date          open          high           low         close  \\\n",
       "0  2018-01-01  14112.200195  14112.200195  13154.700195  13657.200195   \n",
       "1  2018-01-02  13625.000000  15444.599609  13163.599609  14982.099609   \n",
       "2  2018-01-03  14978.200195  15572.799805  14844.500000  15201.000000   \n",
       "3  2018-01-04  15270.700195  15739.700195  14522.200195  15599.200195   \n",
       "4  2018-01-05  15477.200195  17705.199219  15202.799805  17429.500000   \n",
       "\n",
       "      adj_close        volume  price_change  \n",
       "0  13657.200195  1.029120e+10   -455.000000  \n",
       "1  14982.099609  1.684660e+10   1357.099609  \n",
       "2  15201.000000  1.687190e+10    222.799805  \n",
       "3  15599.200195  2.178320e+10    328.500000  \n",
       "4  17429.500000  2.384090e+10   1952.299805  "
      ]
     },
     "execution_count": 26,
     "metadata": {},
     "output_type": "execute_result"
    }
   ],
   "source": [
    "#Only showed Bitcoin dataset considering all others are the same\n",
    "btc_data.head()"
   ]
  },
  {
   "cell_type": "code",
   "execution_count": 27,
   "metadata": {},
   "outputs": [
    {
     "data": {
      "text/html": [
       "<div>\n",
       "<style scoped>\n",
       "    .dataframe tbody tr th:only-of-type {\n",
       "        vertical-align: middle;\n",
       "    }\n",
       "\n",
       "    .dataframe tbody tr th {\n",
       "        vertical-align: top;\n",
       "    }\n",
       "\n",
       "    .dataframe thead th {\n",
       "        text-align: right;\n",
       "    }\n",
       "</style>\n",
       "<table border=\"1\" class=\"dataframe\">\n",
       "  <thead>\n",
       "    <tr style=\"text-align: right;\">\n",
       "      <th></th>\n",
       "      <th>date</th>\n",
       "      <th>btc_price</th>\n",
       "      <th>eth_price</th>\n",
       "      <th>xrp_price</th>\n",
       "      <th>doge_price</th>\n",
       "    </tr>\n",
       "  </thead>\n",
       "  <tbody>\n",
       "    <tr>\n",
       "      <th>0</th>\n",
       "      <td>2018-01-01</td>\n",
       "      <td>13657.200195</td>\n",
       "      <td>772.640991</td>\n",
       "      <td>2.39103</td>\n",
       "      <td>0.008909</td>\n",
       "    </tr>\n",
       "    <tr>\n",
       "      <th>1</th>\n",
       "      <td>2018-01-02</td>\n",
       "      <td>14982.099609</td>\n",
       "      <td>884.443970</td>\n",
       "      <td>2.48090</td>\n",
       "      <td>0.009145</td>\n",
       "    </tr>\n",
       "    <tr>\n",
       "      <th>2</th>\n",
       "      <td>2018-01-03</td>\n",
       "      <td>15201.000000</td>\n",
       "      <td>962.719971</td>\n",
       "      <td>3.10537</td>\n",
       "      <td>0.009320</td>\n",
       "    </tr>\n",
       "    <tr>\n",
       "      <th>3</th>\n",
       "      <td>2018-01-04</td>\n",
       "      <td>15599.200195</td>\n",
       "      <td>980.921997</td>\n",
       "      <td>3.19663</td>\n",
       "      <td>0.009644</td>\n",
       "    </tr>\n",
       "    <tr>\n",
       "      <th>4</th>\n",
       "      <td>2018-01-05</td>\n",
       "      <td>17429.500000</td>\n",
       "      <td>997.719971</td>\n",
       "      <td>3.04871</td>\n",
       "      <td>0.012167</td>\n",
       "    </tr>\n",
       "  </tbody>\n",
       "</table>\n",
       "</div>"
      ],
      "text/plain": [
       "         date     btc_price   eth_price  xrp_price  doge_price\n",
       "0  2018-01-01  13657.200195  772.640991    2.39103    0.008909\n",
       "1  2018-01-02  14982.099609  884.443970    2.48090    0.009145\n",
       "2  2018-01-03  15201.000000  962.719971    3.10537    0.009320\n",
       "3  2018-01-04  15599.200195  980.921997    3.19663    0.009644\n",
       "4  2018-01-05  17429.500000  997.719971    3.04871    0.012167"
      ]
     },
     "execution_count": 27,
     "metadata": {},
     "output_type": "execute_result"
    }
   ],
   "source": [
    "#Combined Dataset showing only the closing prices per day for each currency\n",
    "price_by_day.head()"
   ]
  },
  {
   "cell_type": "code",
   "execution_count": 28,
   "metadata": {},
   "outputs": [
    {
     "data": {
      "text/html": [
       "<div>\n",
       "<style scoped>\n",
       "    .dataframe tbody tr th:only-of-type {\n",
       "        vertical-align: middle;\n",
       "    }\n",
       "\n",
       "    .dataframe tbody tr th {\n",
       "        vertical-align: top;\n",
       "    }\n",
       "\n",
       "    .dataframe thead th {\n",
       "        text-align: right;\n",
       "    }\n",
       "</style>\n",
       "<table border=\"1\" class=\"dataframe\">\n",
       "  <thead>\n",
       "    <tr style=\"text-align: right;\">\n",
       "      <th></th>\n",
       "      <th>date</th>\n",
       "      <th>btc_price</th>\n",
       "      <th>eth_price</th>\n",
       "      <th>xrp_price</th>\n",
       "      <th>doge_price</th>\n",
       "    </tr>\n",
       "  </thead>\n",
       "  <tbody>\n",
       "    <tr>\n",
       "      <th>0</th>\n",
       "      <td>2018-01-01</td>\n",
       "      <td>13657.200195</td>\n",
       "      <td>772.640991</td>\n",
       "      <td>2.39103</td>\n",
       "      <td>0.008909</td>\n",
       "    </tr>\n",
       "    <tr>\n",
       "      <th>1</th>\n",
       "      <td>2018-01-02</td>\n",
       "      <td>14982.099609</td>\n",
       "      <td>884.443970</td>\n",
       "      <td>2.48090</td>\n",
       "      <td>0.009145</td>\n",
       "    </tr>\n",
       "    <tr>\n",
       "      <th>2</th>\n",
       "      <td>2018-01-03</td>\n",
       "      <td>15201.000000</td>\n",
       "      <td>962.719971</td>\n",
       "      <td>3.10537</td>\n",
       "      <td>0.009320</td>\n",
       "    </tr>\n",
       "    <tr>\n",
       "      <th>3</th>\n",
       "      <td>2018-01-04</td>\n",
       "      <td>15599.200195</td>\n",
       "      <td>980.921997</td>\n",
       "      <td>3.19663</td>\n",
       "      <td>0.009644</td>\n",
       "    </tr>\n",
       "    <tr>\n",
       "      <th>4</th>\n",
       "      <td>2018-01-05</td>\n",
       "      <td>17429.500000</td>\n",
       "      <td>997.719971</td>\n",
       "      <td>3.04871</td>\n",
       "      <td>0.012167</td>\n",
       "    </tr>\n",
       "  </tbody>\n",
       "</table>\n",
       "</div>"
      ],
      "text/plain": [
       "         date     btc_price   eth_price  xrp_price  doge_price\n",
       "0  2018-01-01  13657.200195  772.640991    2.39103    0.008909\n",
       "1  2018-01-02  14982.099609  884.443970    2.48090    0.009145\n",
       "2  2018-01-03  15201.000000  962.719971    3.10537    0.009320\n",
       "3  2018-01-04  15599.200195  980.921997    3.19663    0.009644\n",
       "4  2018-01-05  17429.500000  997.719971    3.04871    0.012167"
      ]
     },
     "execution_count": 28,
     "metadata": {},
     "output_type": "execute_result"
    }
   ],
   "source": [
    "#Combined Dataset showing only the change in price per day for each currency\n",
    "price_by_day.head()"
   ]
  },
  {
   "cell_type": "code",
   "execution_count": null,
   "metadata": {},
   "outputs": [],
   "source": []
  }
 ],
 "metadata": {
  "kernelspec": {
   "display_name": "Python 3",
   "language": "python",
   "name": "python3"
  },
  "language_info": {
   "codemirror_mode": {
    "name": "ipython",
    "version": 3
   },
   "file_extension": ".py",
   "mimetype": "text/x-python",
   "name": "python",
   "nbconvert_exporter": "python",
   "pygments_lexer": "ipython3",
   "version": "3.8.5"
  }
 },
 "nbformat": 4,
 "nbformat_minor": 4
}
