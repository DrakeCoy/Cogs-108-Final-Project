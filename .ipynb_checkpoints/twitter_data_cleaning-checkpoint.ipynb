{
 "cells": [
  {
   "cell_type": "code",
   "execution_count": 1,
   "metadata": {},
   "outputs": [],
   "source": [
    "import pandas as pd\n",
    "\n",
    "#allows pandas to display up to 999 rows and 25 columns at one time\n",
    "pd.options.display.max_rows = 999\n",
    "pd.options.display.max_columns = 25"
   ]
  },
  {
   "cell_type": "markdown",
   "metadata": {},
   "source": [
    "### Import the raw csv data from our Twitter scraper"
   ]
  },
  {
   "cell_type": "code",
   "execution_count": 2,
   "metadata": {},
   "outputs": [],
   "source": [
    "elon_musk_tweets = pd.read_csv('data/user-tweets-elonmusk.csv')\n",
    "mark_cuban_tweets = pd.read_csv('data/user-tweets-mcuban.csv')\n",
    "jack_dorsey_tweets = pd.read_csv('data/user-tweets-jack.csv')\n",
    "vladimir_tenev_tweets = pd.read_csv('data/user-tweets-vladtenev.csv')\n",
    "brian_armstrong_tweets = pd.read_csv('data/user-tweets-brian_armstrong.csv')\n",
    "bespoke_crypto_tweets = pd.read_csv('data/user-tweets-BespokeCrypto.csv')"
   ]
  },
  {
   "cell_type": "markdown",
   "metadata": {},
   "source": [
    "#### DataFrame of Elon Musk's tweets to show information in raw_csv"
   ]
  },
  {
   "cell_type": "code",
   "execution_count": 3,
   "metadata": {
    "scrolled": true
   },
   "outputs": [
    {
     "data": {
      "text/html": [
       "<div>\n",
       "<style scoped>\n",
       "    .dataframe tbody tr th:only-of-type {\n",
       "        vertical-align: middle;\n",
       "    }\n",
       "\n",
       "    .dataframe tbody tr th {\n",
       "        vertical-align: top;\n",
       "    }\n",
       "\n",
       "    .dataframe thead th {\n",
       "        text-align: right;\n",
       "    }\n",
       "</style>\n",
       "<table border=\"1\" class=\"dataframe\">\n",
       "  <thead>\n",
       "    <tr style=\"text-align: right;\">\n",
       "      <th></th>\n",
       "      <th>url</th>\n",
       "      <th>date</th>\n",
       "      <th>content</th>\n",
       "      <th>renderedContent</th>\n",
       "      <th>id</th>\n",
       "      <th>user</th>\n",
       "      <th>outlinks</th>\n",
       "      <th>tcooutlinks</th>\n",
       "      <th>replyCount</th>\n",
       "      <th>retweetCount</th>\n",
       "      <th>likeCount</th>\n",
       "      <th>quoteCount</th>\n",
       "      <th>conversationId</th>\n",
       "      <th>lang</th>\n",
       "      <th>source</th>\n",
       "      <th>sourceUrl</th>\n",
       "      <th>sourceLabel</th>\n",
       "      <th>media</th>\n",
       "      <th>retweetedTweet</th>\n",
       "      <th>quotedTweet</th>\n",
       "      <th>mentionedUsers</th>\n",
       "      <th>coordinates</th>\n",
       "      <th>place</th>\n",
       "    </tr>\n",
       "  </thead>\n",
       "  <tbody>\n",
       "    <tr>\n",
       "      <th>0</th>\n",
       "      <td>https://twitter.com/elonmusk/status/1389270326...</td>\n",
       "      <td>2021-05-03 17:27:11+00:00</td>\n",
       "      <td>@MeetLuis @WARREZ420 @WholeMarsBlog Rawlinson ...</td>\n",
       "      <td>@MeetLuis @WARREZ420 @WholeMarsBlog Rawlinson ...</td>\n",
       "      <td>1389270326073253889</td>\n",
       "      <td>{'username': 'elonmusk', 'displayname': 'Elon ...</td>\n",
       "      <td>[]</td>\n",
       "      <td>[]</td>\n",
       "      <td>368</td>\n",
       "      <td>219</td>\n",
       "      <td>2281</td>\n",
       "      <td>100</td>\n",
       "      <td>1389151359648223233</td>\n",
       "      <td>en</td>\n",
       "      <td>&lt;a href=\"http://twitter.com/download/iphone\" r...</td>\n",
       "      <td>http://twitter.com/download/iphone</td>\n",
       "      <td>Twitter for iPhone</td>\n",
       "      <td>NaN</td>\n",
       "      <td>NaN</td>\n",
       "      <td>NaN</td>\n",
       "      <td>[{'username': 'MeetLuis', 'displayname': 'Luis...</td>\n",
       "      <td>NaN</td>\n",
       "      <td>NaN</td>\n",
       "    </tr>\n",
       "    <tr>\n",
       "      <th>1</th>\n",
       "      <td>https://twitter.com/elonmusk/status/1389126650...</td>\n",
       "      <td>2021-05-03 07:56:16+00:00</td>\n",
       "      <td>@spacex360 So great to see the happy faces!</td>\n",
       "      <td>@spacex360 So great to see the happy faces!</td>\n",
       "      <td>1389126650508480512</td>\n",
       "      <td>{'username': 'elonmusk', 'displayname': 'Elon ...</td>\n",
       "      <td>[]</td>\n",
       "      <td>[]</td>\n",
       "      <td>774</td>\n",
       "      <td>943</td>\n",
       "      <td>29807</td>\n",
       "      <td>42</td>\n",
       "      <td>1388778987044982788</td>\n",
       "      <td>en</td>\n",
       "      <td>&lt;a href=\"http://twitter.com/download/iphone\" r...</td>\n",
       "      <td>http://twitter.com/download/iphone</td>\n",
       "      <td>Twitter for iPhone</td>\n",
       "      <td>NaN</td>\n",
       "      <td>NaN</td>\n",
       "      <td>NaN</td>\n",
       "      <td>[{'username': 'spacex360', 'displayname': 'Eve...</td>\n",
       "      <td>NaN</td>\n",
       "      <td>NaN</td>\n",
       "    </tr>\n",
       "    <tr>\n",
       "      <th>2</th>\n",
       "      <td>https://twitter.com/elonmusk/status/1389102532...</td>\n",
       "      <td>2021-05-03 06:20:26+00:00</td>\n",
       "      <td>@utsavtechie Prototypes are easy, production i...</td>\n",
       "      <td>@utsavtechie Prototypes are easy, production i...</td>\n",
       "      <td>1389102532706848768</td>\n",
       "      <td>{'username': 'elonmusk', 'displayname': 'Elon ...</td>\n",
       "      <td>[]</td>\n",
       "      <td>[]</td>\n",
       "      <td>2791</td>\n",
       "      <td>8029</td>\n",
       "      <td>159645</td>\n",
       "      <td>648</td>\n",
       "      <td>1388795182582099968</td>\n",
       "      <td>en</td>\n",
       "      <td>&lt;a href=\"http://twitter.com/download/iphone\" r...</td>\n",
       "      <td>http://twitter.com/download/iphone</td>\n",
       "      <td>Twitter for iPhone</td>\n",
       "      <td>NaN</td>\n",
       "      <td>NaN</td>\n",
       "      <td>NaN</td>\n",
       "      <td>[{'username': 'utsavtechie', 'displayname': 'U...</td>\n",
       "      <td>NaN</td>\n",
       "      <td>NaN</td>\n",
       "    </tr>\n",
       "    <tr>\n",
       "      <th>3</th>\n",
       "      <td>https://twitter.com/elonmusk/status/1388980879...</td>\n",
       "      <td>2021-05-02 22:17:02+00:00</td>\n",
       "      <td>@heydave7 @Tesla A remarkable junction in history</td>\n",
       "      <td>@heydave7 @Tesla A remarkable junction in history</td>\n",
       "      <td>1388980879175954433</td>\n",
       "      <td>{'username': 'elonmusk', 'displayname': 'Elon ...</td>\n",
       "      <td>[]</td>\n",
       "      <td>[]</td>\n",
       "      <td>918</td>\n",
       "      <td>865</td>\n",
       "      <td>16742</td>\n",
       "      <td>71</td>\n",
       "      <td>1388610791885217797</td>\n",
       "      <td>en</td>\n",
       "      <td>&lt;a href=\"http://twitter.com/download/iphone\" r...</td>\n",
       "      <td>http://twitter.com/download/iphone</td>\n",
       "      <td>Twitter for iPhone</td>\n",
       "      <td>NaN</td>\n",
       "      <td>NaN</td>\n",
       "      <td>NaN</td>\n",
       "      <td>[{'username': 'heydave7', 'displayname': 'Dave...</td>\n",
       "      <td>NaN</td>\n",
       "      <td>NaN</td>\n",
       "    </tr>\n",
       "    <tr>\n",
       "      <th>4</th>\n",
       "      <td>https://twitter.com/elonmusk/status/1388963849...</td>\n",
       "      <td>2021-05-02 21:09:21+00:00</td>\n",
       "      <td>@jaentwistle One of many reasons why we need l...</td>\n",
       "      <td>@jaentwistle One of many reasons why we need l...</td>\n",
       "      <td>1388963849043419140</td>\n",
       "      <td>{'username': 'elonmusk', 'displayname': 'Elon ...</td>\n",
       "      <td>[]</td>\n",
       "      <td>[]</td>\n",
       "      <td>1152</td>\n",
       "      <td>1474</td>\n",
       "      <td>32663</td>\n",
       "      <td>78</td>\n",
       "      <td>1388962263030190084</td>\n",
       "      <td>en</td>\n",
       "      <td>&lt;a href=\"http://twitter.com/download/iphone\" r...</td>\n",
       "      <td>http://twitter.com/download/iphone</td>\n",
       "      <td>Twitter for iPhone</td>\n",
       "      <td>NaN</td>\n",
       "      <td>NaN</td>\n",
       "      <td>NaN</td>\n",
       "      <td>[{'username': 'jaentwistle', 'displayname': 'J...</td>\n",
       "      <td>NaN</td>\n",
       "      <td>NaN</td>\n",
       "    </tr>\n",
       "  </tbody>\n",
       "</table>\n",
       "</div>"
      ],
      "text/plain": [
       "                                                 url  \\\n",
       "0  https://twitter.com/elonmusk/status/1389270326...   \n",
       "1  https://twitter.com/elonmusk/status/1389126650...   \n",
       "2  https://twitter.com/elonmusk/status/1389102532...   \n",
       "3  https://twitter.com/elonmusk/status/1388980879...   \n",
       "4  https://twitter.com/elonmusk/status/1388963849...   \n",
       "\n",
       "                        date  \\\n",
       "0  2021-05-03 17:27:11+00:00   \n",
       "1  2021-05-03 07:56:16+00:00   \n",
       "2  2021-05-03 06:20:26+00:00   \n",
       "3  2021-05-02 22:17:02+00:00   \n",
       "4  2021-05-02 21:09:21+00:00   \n",
       "\n",
       "                                             content  \\\n",
       "0  @MeetLuis @WARREZ420 @WholeMarsBlog Rawlinson ...   \n",
       "1        @spacex360 So great to see the happy faces!   \n",
       "2  @utsavtechie Prototypes are easy, production i...   \n",
       "3  @heydave7 @Tesla A remarkable junction in history   \n",
       "4  @jaentwistle One of many reasons why we need l...   \n",
       "\n",
       "                                     renderedContent                   id  \\\n",
       "0  @MeetLuis @WARREZ420 @WholeMarsBlog Rawlinson ...  1389270326073253889   \n",
       "1        @spacex360 So great to see the happy faces!  1389126650508480512   \n",
       "2  @utsavtechie Prototypes are easy, production i...  1389102532706848768   \n",
       "3  @heydave7 @Tesla A remarkable junction in history  1388980879175954433   \n",
       "4  @jaentwistle One of many reasons why we need l...  1388963849043419140   \n",
       "\n",
       "                                                user outlinks tcooutlinks  \\\n",
       "0  {'username': 'elonmusk', 'displayname': 'Elon ...       []          []   \n",
       "1  {'username': 'elonmusk', 'displayname': 'Elon ...       []          []   \n",
       "2  {'username': 'elonmusk', 'displayname': 'Elon ...       []          []   \n",
       "3  {'username': 'elonmusk', 'displayname': 'Elon ...       []          []   \n",
       "4  {'username': 'elonmusk', 'displayname': 'Elon ...       []          []   \n",
       "\n",
       "   replyCount  retweetCount  likeCount  quoteCount       conversationId lang  \\\n",
       "0         368           219       2281         100  1389151359648223233   en   \n",
       "1         774           943      29807          42  1388778987044982788   en   \n",
       "2        2791          8029     159645         648  1388795182582099968   en   \n",
       "3         918           865      16742          71  1388610791885217797   en   \n",
       "4        1152          1474      32663          78  1388962263030190084   en   \n",
       "\n",
       "                                              source  \\\n",
       "0  <a href=\"http://twitter.com/download/iphone\" r...   \n",
       "1  <a href=\"http://twitter.com/download/iphone\" r...   \n",
       "2  <a href=\"http://twitter.com/download/iphone\" r...   \n",
       "3  <a href=\"http://twitter.com/download/iphone\" r...   \n",
       "4  <a href=\"http://twitter.com/download/iphone\" r...   \n",
       "\n",
       "                            sourceUrl         sourceLabel media  \\\n",
       "0  http://twitter.com/download/iphone  Twitter for iPhone   NaN   \n",
       "1  http://twitter.com/download/iphone  Twitter for iPhone   NaN   \n",
       "2  http://twitter.com/download/iphone  Twitter for iPhone   NaN   \n",
       "3  http://twitter.com/download/iphone  Twitter for iPhone   NaN   \n",
       "4  http://twitter.com/download/iphone  Twitter for iPhone   NaN   \n",
       "\n",
       "   retweetedTweet quotedTweet  \\\n",
       "0             NaN         NaN   \n",
       "1             NaN         NaN   \n",
       "2             NaN         NaN   \n",
       "3             NaN         NaN   \n",
       "4             NaN         NaN   \n",
       "\n",
       "                                      mentionedUsers  coordinates  place  \n",
       "0  [{'username': 'MeetLuis', 'displayname': 'Luis...          NaN    NaN  \n",
       "1  [{'username': 'spacex360', 'displayname': 'Eve...          NaN    NaN  \n",
       "2  [{'username': 'utsavtechie', 'displayname': 'U...          NaN    NaN  \n",
       "3  [{'username': 'heydave7', 'displayname': 'Dave...          NaN    NaN  \n",
       "4  [{'username': 'jaentwistle', 'displayname': 'J...          NaN    NaN  "
      ]
     },
     "execution_count": 3,
     "metadata": {},
     "output_type": "execute_result"
    }
   ],
   "source": [
    "elon_musk_tweets.head()"
   ]
  },
  {
   "cell_type": "markdown",
   "metadata": {},
   "source": [
    "### Look at what information is in columns to determine what is needed"
   ]
  },
  {
   "cell_type": "code",
   "execution_count": 4,
   "metadata": {},
   "outputs": [
    {
     "data": {
      "text/plain": [
       "Index(['url', 'date', 'content', 'renderedContent', 'id', 'user', 'outlinks',\n",
       "       'tcooutlinks', 'replyCount', 'retweetCount', 'likeCount', 'quoteCount',\n",
       "       'conversationId', 'lang', 'source', 'sourceUrl', 'sourceLabel', 'media',\n",
       "       'retweetedTweet', 'quotedTweet', 'mentionedUsers', 'coordinates',\n",
       "       'place'],\n",
       "      dtype='object')"
      ]
     },
     "execution_count": 4,
     "metadata": {},
     "output_type": "execute_result"
    }
   ],
   "source": [
    "#want to look at all availible columns and find out what each of them are for\n",
    "elon_musk_tweets.columns"
   ]
  },
  {
   "cell_type": "code",
   "execution_count": 5,
   "metadata": {
    "scrolled": true
   },
   "outputs": [
    {
     "data": {
      "text/plain": [
       "(10000, 23)"
      ]
     },
     "execution_count": 5,
     "metadata": {},
     "output_type": "execute_result"
    }
   ],
   "source": [
    "#dataset has 10,000 rows, one for each tweet, and 23 columns\n",
    "elon_musk_tweets.shape"
   ]
  },
  {
   "cell_type": "code",
   "execution_count": 6,
   "metadata": {},
   "outputs": [
    {
     "data": {
      "text/plain": [
       "(False    10000\n",
       " Name: content, dtype: int64,\n",
       " False    10000\n",
       " Name: date, dtype: int64,\n",
       " False    10000\n",
       " Name: id, dtype: int64)"
      ]
     },
     "execution_count": 6,
     "metadata": {},
     "output_type": "execute_result"
    }
   ],
   "source": [
    "#all entries have tweet content, a date, and a unique id\n",
    "elon_musk_tweets.isna()['content'].value_counts(), elon_musk_tweets.isna()['date'].value_counts(), \\\n",
    "elon_musk_tweets.isna()['id'].value_counts()"
   ]
  },
  {
   "cell_type": "code",
   "execution_count": 7,
   "metadata": {},
   "outputs": [
    {
     "data": {
      "text/plain": [
       "url                 object\n",
       "date                object\n",
       "content             object\n",
       "renderedContent     object\n",
       "id                   int64\n",
       "user                object\n",
       "outlinks            object\n",
       "tcooutlinks         object\n",
       "replyCount           int64\n",
       "retweetCount         int64\n",
       "likeCount            int64\n",
       "quoteCount           int64\n",
       "conversationId       int64\n",
       "lang                object\n",
       "source              object\n",
       "sourceUrl           object\n",
       "sourceLabel         object\n",
       "media               object\n",
       "retweetedTweet     float64\n",
       "quotedTweet         object\n",
       "mentionedUsers      object\n",
       "coordinates        float64\n",
       "place              float64\n",
       "dtype: object"
      ]
     },
     "execution_count": 7,
     "metadata": {},
     "output_type": "execute_result"
    }
   ],
   "source": [
    "elon_musk_tweets.dtypes"
   ]
  },
  {
   "cell_type": "markdown",
   "metadata": {},
   "source": [
    "### Column Descriptions:\n",
    "#### Name - Keeping/Removing - Description"
   ]
  },
  {
   "cell_type": "markdown",
   "metadata": {},
   "source": [
    "**url** - removing - provides the url to the tweet  \n",
    "**date** - keeping - provides the date and time for when the tweet was published  \n",
    "**content** - keeping - the actual text of the tweet  \n",
    "**renderedContent** - removing - seems to be a direct repeat of 'content'  \n",
    "**id** - keeping - unique id for each tweet  \n",
    "**user** - keeping - provides user information including name, username, id, description, verified status, and more  \n",
    "**outlinks** - removing - indicates any links to outside websites  \n",
    "**tcooutlinks** - removing - shortend version of links in 'outlinks'  \n",
    "**replyCount** - keeping - number of replies a tweet recieved  \n",
    "**retweetCount** - keeping - number of retweets a tweet recieved  \n",
    "**retweetCount** - keeping - number of retweets a tweet recieved  \n",
    "**likeCount** - keeping - number of likes a tweet recieved  \n",
    "**quoteCount** - keeping - number of times a tweet was quoted \n",
    "**conversationId** - removing - unique id for the conversation  \n",
    "**lang** - removing - the language the tweet was made in  \n",
    "**source** - removing - shows the raw source for where the tweet came from\n",
    "**sourceURL** - removing - cleaned url from the 'source' column  \n",
    "**sourceLabel** - removing - cleaned device name for where the tweet came from  \n",
    "**media** - removing - link to any imbeded photos/videos in the tweet  \n",
    "**retweetedTweet** - removing - link to original tweeted if this is a retweet  \n",
    "**quotedTweet** - removing - link to original tweeted if this tweet is quoting another  \n",
    "**mentionedUsers** - removing - twitter profile information for anyone tagged in the tweet  \n",
    "**coordinates** - removing - show the gps coordinates of any linked location  \n",
    "**place** - removing - shows the place of any linked location"
   ]
  },
  {
   "cell_type": "markdown",
   "metadata": {},
   "source": [
    "### Many Columns have unneeded information --> Drop Them"
   ]
  },
  {
   "cell_type": "code",
   "execution_count": 8,
   "metadata": {},
   "outputs": [],
   "source": [
    "columns_to_drop = ['url', 'renderedContent', 'outlinks', 'tcooutlinks', 'conversationId', 'lang', 'source', \n",
    "                    'sourceUrl', 'sourceLabel', 'media','retweetedTweet', 'quotedTweet', 'mentionedUsers', \n",
    "                    'coordinates','place']\n",
    "elon_musk_tweets = elon_musk_tweets.drop(columns=columns_to_drop)\n",
    "mark_cuban_tweets = mark_cuban_tweets.drop(columns=columns_to_drop)\n",
    "jack_dorsey_tweets = jack_dorsey_tweets.drop(columns=columns_to_drop)\n",
    "vladimir_tenev_tweets = vladimir_tenev_tweets.drop(columns=columns_to_drop)\n",
    "brian_armstrong_tweets = brian_armstrong_tweets.drop(columns=columns_to_drop)\n",
    "bespoke_crypto_tweets = bespoke_crypto_tweets.drop(columns=columns_to_drop)"
   ]
  },
  {
   "cell_type": "code",
   "execution_count": 9,
   "metadata": {},
   "outputs": [
    {
     "data": {
      "text/plain": [
       "(10000, 8)"
      ]
     },
     "execution_count": 9,
     "metadata": {},
     "output_type": "execute_result"
    }
   ],
   "source": [
    " elon_musk_tweets.shape"
   ]
  },
  {
   "cell_type": "markdown",
   "metadata": {},
   "source": [
    "### 'Date' column is still messy to look at --> Add columns for more accurate date/time"
   ]
  },
  {
   "cell_type": "code",
   "execution_count": 10,
   "metadata": {},
   "outputs": [],
   "source": [
    "def year_from_date(date_time):\n",
    "    year = date_time.split('-')[0]\n",
    "    return int(year)\n",
    "\n",
    "def month_from_date(date_time):\n",
    "    month = date_time.split('-')[1]\n",
    "    return int(month)\n",
    "\n",
    "def day_from_date(date_time):\n",
    "    date = date_time.split(' ')[0]\n",
    "    day = date.split('-')[2]\n",
    "    return int(day)"
   ]
  },
  {
   "cell_type": "code",
   "execution_count": 11,
   "metadata": {},
   "outputs": [],
   "source": [
    "#Elon Musk\n",
    "elon_musk_tweets = elon_musk_tweets.assign(year = elon_musk_tweets.date.apply(year_from_date))\n",
    "elon_musk_tweets = elon_musk_tweets.assign(month = elon_musk_tweets.date.apply(month_from_date))\n",
    "elon_musk_tweets = elon_musk_tweets.assign(day = elon_musk_tweets.date.apply(day_from_date))\n",
    "\n",
    "#Mark Cuban\n",
    "mark_cuban_tweets = mark_cuban_tweets.assign(year = mark_cuban_tweets.date.apply(year_from_date))\n",
    "mark_cuban_tweets = mark_cuban_tweets.assign(month = mark_cuban_tweets.date.apply(month_from_date))\n",
    "mark_cuban_tweets = mark_cuban_tweets.assign(day = mark_cuban_tweets.date.apply(day_from_date))\n",
    "\n",
    "#Jack Dorsey\n",
    "jack_dorsey_tweets = jack_dorsey_tweets.assign(year = jack_dorsey_tweets.date.apply(year_from_date))\n",
    "jack_dorsey_tweets = jack_dorsey_tweets.assign(month = jack_dorsey_tweets.date.apply(month_from_date))\n",
    "jack_dorsey_tweets = jack_dorsey_tweets.assign(day = jack_dorsey_tweets.date.apply(day_from_date))\n",
    "\n",
    "#Vladimir Tenev\n",
    "vladimir_tenev_tweets = vladimir_tenev_tweets.assign(year = vladimir_tenev_tweets.date.apply(year_from_date))\n",
    "vladimir_tenev_tweets = vladimir_tenev_tweets.assign(month = vladimir_tenev_tweets.date.apply(month_from_date))\n",
    "vladimir_tenev_tweets = vladimir_tenev_tweets.assign(day = vladimir_tenev_tweets.date.apply(day_from_date))\n",
    "\n",
    "#Brian Armstrong\n",
    "brian_armstrong_tweets = brian_armstrong_tweets.assign(year = brian_armstrong_tweets.date.apply(year_from_date))\n",
    "brian_armstrong_tweets = brian_armstrong_tweets.assign(month = brian_armstrong_tweets.date.apply(month_from_date))\n",
    "brian_armstrong_tweets = brian_armstrong_tweets.assign(day = brian_armstrong_tweets.date.apply(day_from_date))\n",
    "\n",
    "#Bespoke Crypto\n",
    "bespoke_crypto_tweets = bespoke_crypto_tweets.assign(year = elon_musk_tweets.date.apply(year_from_date))\n",
    "bespoke_crypto_tweets = bespoke_crypto_tweets.assign(month = elon_musk_tweets.date.apply(month_from_date))\n",
    "bespoke_crypto_tweets = bespoke_crypto_tweets.assign(day = elon_musk_tweets.date.apply(day_from_date))"
   ]
  },
  {
   "cell_type": "markdown",
   "metadata": {},
   "source": [
    "### User column is really ugly --> Update it to just show user's display name"
   ]
  },
  {
   "cell_type": "code",
   "execution_count": 12,
   "metadata": {},
   "outputs": [],
   "source": [
    "def get_display_name(user):\n",
    "    name = user.split(',')[1].split(\"'\")[3]\n",
    "    return name"
   ]
  },
  {
   "cell_type": "code",
   "execution_count": 13,
   "metadata": {},
   "outputs": [],
   "source": [
    "#Elon Musk\n",
    "elon_musk_tweets = elon_musk_tweets.assign(user = elon_musk_tweets.user.apply(get_display_name))\n",
    "\n",
    "#Mark Cuban\n",
    "mark_cuban_tweets = mark_cuban_tweets.assign(user = mark_cuban_tweets.user.apply(get_display_name))\n",
    "\n",
    "#Jack Dorsey\n",
    "jack_dorsey_tweets = jack_dorsey_tweets.assign(user = jack_dorsey_tweets.user.apply(get_display_name))\n",
    "\n",
    "#Vladimir Tenev\n",
    "vladimir_tenev_tweets = vladimir_tenev_tweets.assign(user = vladimir_tenev_tweets.user.apply(get_display_name))\n",
    "\n",
    "#Brian Armstrong\n",
    "brian_armstrong_tweets = brian_armstrong_tweets.assign(user = brian_armstrong_tweets.user.apply(get_display_name))\n",
    "\n",
    "#Bespoke Crypto\n",
    "bespoke_crypto_tweets = bespoke_crypto_tweets.assign(user = bespoke_crypto_tweets.user.apply(get_display_name))"
   ]
  },
  {
   "cell_type": "markdown",
   "metadata": {},
   "source": [
    "### We are only interested in tweets dating back to 2018 --> Drop earlier dates"
   ]
  },
  {
   "cell_type": "code",
   "execution_count": 14,
   "metadata": {},
   "outputs": [],
   "source": [
    "#Elon Musk\n",
    "elon_musk_tweets = elon_musk_tweets[elon_musk_tweets.get('year') >= 2018]\n",
    "\n",
    "#Mark Cuban\n",
    "mark_cuban_tweets = mark_cuban_tweets[mark_cuban_tweets.get('year') >= 2018]\n",
    "\n",
    "#Jack Dorsey\n",
    "jack_dorsey_tweets = jack_dorsey_tweets[jack_dorsey_tweets.get('year') >= 2018]\n",
    "\n",
    "#Vladimir Tenev\n",
    "vladimir_tenev_tweets = vladimir_tenev_tweets[vladimir_tenev_tweets.get('year') >= 2018]\n",
    "\n",
    "#Brian Armstrong\n",
    "brian_armstrong_tweets = brian_armstrong_tweets[brian_armstrong_tweets.get('year') >= 2018]\n",
    "\n",
    "#Bespoke Crypto\n",
    "bespoke_crypto_tweets = bespoke_crypto_tweets[bespoke_crypto_tweets.get('year') >= 2018]"
   ]
  },
  {
   "cell_type": "code",
   "execution_count": 15,
   "metadata": {},
   "outputs": [
    {
     "data": {
      "text/plain": [
       "(9502, 11)"
      ]
     },
     "execution_count": 15,
     "metadata": {},
     "output_type": "execute_result"
    }
   ],
   "source": [
    "elon_musk_tweets.shape"
   ]
  },
  {
   "cell_type": "code",
   "execution_count": 16,
   "metadata": {},
   "outputs": [
    {
     "data": {
      "text/plain": [
       "(2635, 11)"
      ]
     },
     "execution_count": 16,
     "metadata": {},
     "output_type": "execute_result"
    }
   ],
   "source": [
    "mark_cuban_tweets.shape"
   ]
  },
  {
   "cell_type": "code",
   "execution_count": 17,
   "metadata": {},
   "outputs": [
    {
     "data": {
      "text/plain": [
       "(3355, 11)"
      ]
     },
     "execution_count": 17,
     "metadata": {},
     "output_type": "execute_result"
    }
   ],
   "source": [
    "jack_dorsey_tweets.shape"
   ]
  },
  {
   "cell_type": "code",
   "execution_count": 18,
   "metadata": {},
   "outputs": [
    {
     "data": {
      "text/plain": [
       "(239, 11)"
      ]
     },
     "execution_count": 18,
     "metadata": {},
     "output_type": "execute_result"
    }
   ],
   "source": [
    "vladimir_tenev_tweets.shape"
   ]
  },
  {
   "cell_type": "code",
   "execution_count": 19,
   "metadata": {},
   "outputs": [
    {
     "data": {
      "text/plain": [
       "(185, 11)"
      ]
     },
     "execution_count": 19,
     "metadata": {},
     "output_type": "execute_result"
    }
   ],
   "source": [
    "brian_armstrong_tweets.shape"
   ]
  },
  {
   "cell_type": "code",
   "execution_count": 20,
   "metadata": {},
   "outputs": [
    {
     "data": {
      "text/plain": [
       "(187, 11)"
      ]
     },
     "execution_count": 20,
     "metadata": {},
     "output_type": "execute_result"
    }
   ],
   "source": [
    "bespoke_crypto_tweets.shape"
   ]
  },
  {
   "cell_type": "markdown",
   "metadata": {},
   "source": [
    "### DataFrame of Elon Musk's tweets to show cleaned data"
   ]
  },
  {
   "cell_type": "code",
   "execution_count": 21,
   "metadata": {},
   "outputs": [
    {
     "data": {
      "text/html": [
       "<div>\n",
       "<style scoped>\n",
       "    .dataframe tbody tr th:only-of-type {\n",
       "        vertical-align: middle;\n",
       "    }\n",
       "\n",
       "    .dataframe tbody tr th {\n",
       "        vertical-align: top;\n",
       "    }\n",
       "\n",
       "    .dataframe thead th {\n",
       "        text-align: right;\n",
       "    }\n",
       "</style>\n",
       "<table border=\"1\" class=\"dataframe\">\n",
       "  <thead>\n",
       "    <tr style=\"text-align: right;\">\n",
       "      <th></th>\n",
       "      <th>date</th>\n",
       "      <th>content</th>\n",
       "      <th>id</th>\n",
       "      <th>user</th>\n",
       "      <th>replyCount</th>\n",
       "      <th>retweetCount</th>\n",
       "      <th>likeCount</th>\n",
       "      <th>quoteCount</th>\n",
       "      <th>year</th>\n",
       "      <th>month</th>\n",
       "      <th>day</th>\n",
       "    </tr>\n",
       "  </thead>\n",
       "  <tbody>\n",
       "    <tr>\n",
       "      <th>0</th>\n",
       "      <td>2021-05-03 17:27:11+00:00</td>\n",
       "      <td>@MeetLuis @WARREZ420 @WholeMarsBlog Rawlinson ...</td>\n",
       "      <td>1389270326073253889</td>\n",
       "      <td>Elon Musk</td>\n",
       "      <td>368</td>\n",
       "      <td>219</td>\n",
       "      <td>2281</td>\n",
       "      <td>100</td>\n",
       "      <td>2021</td>\n",
       "      <td>5</td>\n",
       "      <td>3</td>\n",
       "    </tr>\n",
       "    <tr>\n",
       "      <th>1</th>\n",
       "      <td>2021-05-03 07:56:16+00:00</td>\n",
       "      <td>@spacex360 So great to see the happy faces!</td>\n",
       "      <td>1389126650508480512</td>\n",
       "      <td>Elon Musk</td>\n",
       "      <td>774</td>\n",
       "      <td>943</td>\n",
       "      <td>29807</td>\n",
       "      <td>42</td>\n",
       "      <td>2021</td>\n",
       "      <td>5</td>\n",
       "      <td>3</td>\n",
       "    </tr>\n",
       "    <tr>\n",
       "      <th>2</th>\n",
       "      <td>2021-05-03 06:20:26+00:00</td>\n",
       "      <td>@utsavtechie Prototypes are easy, production i...</td>\n",
       "      <td>1389102532706848768</td>\n",
       "      <td>Elon Musk</td>\n",
       "      <td>2791</td>\n",
       "      <td>8029</td>\n",
       "      <td>159645</td>\n",
       "      <td>648</td>\n",
       "      <td>2021</td>\n",
       "      <td>5</td>\n",
       "      <td>3</td>\n",
       "    </tr>\n",
       "    <tr>\n",
       "      <th>3</th>\n",
       "      <td>2021-05-02 22:17:02+00:00</td>\n",
       "      <td>@heydave7 @Tesla A remarkable junction in history</td>\n",
       "      <td>1388980879175954433</td>\n",
       "      <td>Elon Musk</td>\n",
       "      <td>918</td>\n",
       "      <td>865</td>\n",
       "      <td>16742</td>\n",
       "      <td>71</td>\n",
       "      <td>2021</td>\n",
       "      <td>5</td>\n",
       "      <td>2</td>\n",
       "    </tr>\n",
       "    <tr>\n",
       "      <th>4</th>\n",
       "      <td>2021-05-02 21:09:21+00:00</td>\n",
       "      <td>@jaentwistle One of many reasons why we need l...</td>\n",
       "      <td>1388963849043419140</td>\n",
       "      <td>Elon Musk</td>\n",
       "      <td>1152</td>\n",
       "      <td>1474</td>\n",
       "      <td>32663</td>\n",
       "      <td>78</td>\n",
       "      <td>2021</td>\n",
       "      <td>5</td>\n",
       "      <td>2</td>\n",
       "    </tr>\n",
       "  </tbody>\n",
       "</table>\n",
       "</div>"
      ],
      "text/plain": [
       "                        date  \\\n",
       "0  2021-05-03 17:27:11+00:00   \n",
       "1  2021-05-03 07:56:16+00:00   \n",
       "2  2021-05-03 06:20:26+00:00   \n",
       "3  2021-05-02 22:17:02+00:00   \n",
       "4  2021-05-02 21:09:21+00:00   \n",
       "\n",
       "                                             content                   id  \\\n",
       "0  @MeetLuis @WARREZ420 @WholeMarsBlog Rawlinson ...  1389270326073253889   \n",
       "1        @spacex360 So great to see the happy faces!  1389126650508480512   \n",
       "2  @utsavtechie Prototypes are easy, production i...  1389102532706848768   \n",
       "3  @heydave7 @Tesla A remarkable junction in history  1388980879175954433   \n",
       "4  @jaentwistle One of many reasons why we need l...  1388963849043419140   \n",
       "\n",
       "        user  replyCount  retweetCount  likeCount  quoteCount  year  month  \\\n",
       "0  Elon Musk         368           219       2281         100  2021      5   \n",
       "1  Elon Musk         774           943      29807          42  2021      5   \n",
       "2  Elon Musk        2791          8029     159645         648  2021      5   \n",
       "3  Elon Musk         918           865      16742          71  2021      5   \n",
       "4  Elon Musk        1152          1474      32663          78  2021      5   \n",
       "\n",
       "   day  \n",
       "0    3  \n",
       "1    3  \n",
       "2    3  \n",
       "3    2  \n",
       "4    2  "
      ]
     },
     "execution_count": 21,
     "metadata": {},
     "output_type": "execute_result"
    }
   ],
   "source": [
    "elon_musk_tweets.head()"
   ]
  },
  {
   "cell_type": "markdown",
   "metadata": {},
   "source": [
    "### Combine all Influencer's tweets into a common dataframe"
   ]
  },
  {
   "cell_type": "code",
   "execution_count": 22,
   "metadata": {},
   "outputs": [],
   "source": [
    "tweets = (elon_musk_tweets.merge(mark_cuban_tweets, how='outer')\n",
    "                        .merge(jack_dorsey_tweets, how='outer')\n",
    "                        .merge(vladimir_tenev_tweets, how='outer')\n",
    "                        .merge(brian_armstrong_tweets, how='outer')\n",
    "                        .merge(bespoke_crypto_tweets, how='outer'))"
   ]
  },
  {
   "cell_type": "code",
   "execution_count": 23,
   "metadata": {},
   "outputs": [
    {
     "data": {
      "text/plain": [
       "True"
      ]
     },
     "execution_count": 23,
     "metadata": {},
     "output_type": "execute_result"
    }
   ],
   "source": [
    "#check to make sure all tweets were preserved during the merge\n",
    "total_num_tweet = elon_musk_tweets.shape[0] + mark_cuban_tweets.shape[0] + jack_dorsey_tweets.shape[0] \\\n",
    "                    + vladimir_tenev_tweets.shape[0] + brian_armstrong_tweets.shape[0] \\\n",
    "                    + bespoke_crypto_tweets.shape[0]\n",
    "total_num_tweet == tweets.shape[0]"
   ]
  },
  {
   "cell_type": "code",
   "execution_count": 24,
   "metadata": {
    "scrolled": true
   },
   "outputs": [
    {
     "data": {
      "text/html": [
       "<div>\n",
       "<style scoped>\n",
       "    .dataframe tbody tr th:only-of-type {\n",
       "        vertical-align: middle;\n",
       "    }\n",
       "\n",
       "    .dataframe tbody tr th {\n",
       "        vertical-align: top;\n",
       "    }\n",
       "\n",
       "    .dataframe thead th {\n",
       "        text-align: right;\n",
       "    }\n",
       "</style>\n",
       "<table border=\"1\" class=\"dataframe\">\n",
       "  <thead>\n",
       "    <tr style=\"text-align: right;\">\n",
       "      <th></th>\n",
       "      <th>date</th>\n",
       "      <th>content</th>\n",
       "      <th>id</th>\n",
       "      <th>user</th>\n",
       "      <th>replyCount</th>\n",
       "      <th>retweetCount</th>\n",
       "      <th>likeCount</th>\n",
       "      <th>quoteCount</th>\n",
       "      <th>year</th>\n",
       "      <th>month</th>\n",
       "      <th>day</th>\n",
       "    </tr>\n",
       "  </thead>\n",
       "  <tbody>\n",
       "    <tr>\n",
       "      <th>0</th>\n",
       "      <td>2021-05-03 17:27:11+00:00</td>\n",
       "      <td>@MeetLuis @WARREZ420 @WholeMarsBlog Rawlinson ...</td>\n",
       "      <td>1389270326073253889</td>\n",
       "      <td>Elon Musk</td>\n",
       "      <td>368</td>\n",
       "      <td>219</td>\n",
       "      <td>2281</td>\n",
       "      <td>100</td>\n",
       "      <td>2021</td>\n",
       "      <td>5</td>\n",
       "      <td>3</td>\n",
       "    </tr>\n",
       "    <tr>\n",
       "      <th>1</th>\n",
       "      <td>2021-05-03 07:56:16+00:00</td>\n",
       "      <td>@spacex360 So great to see the happy faces!</td>\n",
       "      <td>1389126650508480512</td>\n",
       "      <td>Elon Musk</td>\n",
       "      <td>774</td>\n",
       "      <td>943</td>\n",
       "      <td>29807</td>\n",
       "      <td>42</td>\n",
       "      <td>2021</td>\n",
       "      <td>5</td>\n",
       "      <td>3</td>\n",
       "    </tr>\n",
       "    <tr>\n",
       "      <th>2</th>\n",
       "      <td>2021-05-03 06:20:26+00:00</td>\n",
       "      <td>@utsavtechie Prototypes are easy, production i...</td>\n",
       "      <td>1389102532706848768</td>\n",
       "      <td>Elon Musk</td>\n",
       "      <td>2791</td>\n",
       "      <td>8029</td>\n",
       "      <td>159645</td>\n",
       "      <td>648</td>\n",
       "      <td>2021</td>\n",
       "      <td>5</td>\n",
       "      <td>3</td>\n",
       "    </tr>\n",
       "    <tr>\n",
       "      <th>3</th>\n",
       "      <td>2021-05-02 22:17:02+00:00</td>\n",
       "      <td>@heydave7 @Tesla A remarkable junction in history</td>\n",
       "      <td>1388980879175954433</td>\n",
       "      <td>Elon Musk</td>\n",
       "      <td>918</td>\n",
       "      <td>865</td>\n",
       "      <td>16742</td>\n",
       "      <td>71</td>\n",
       "      <td>2021</td>\n",
       "      <td>5</td>\n",
       "      <td>2</td>\n",
       "    </tr>\n",
       "    <tr>\n",
       "      <th>4</th>\n",
       "      <td>2021-05-02 21:09:21+00:00</td>\n",
       "      <td>@jaentwistle One of many reasons why we need l...</td>\n",
       "      <td>1388963849043419140</td>\n",
       "      <td>Elon Musk</td>\n",
       "      <td>1152</td>\n",
       "      <td>1474</td>\n",
       "      <td>32663</td>\n",
       "      <td>78</td>\n",
       "      <td>2021</td>\n",
       "      <td>5</td>\n",
       "      <td>2</td>\n",
       "    </tr>\n",
       "  </tbody>\n",
       "</table>\n",
       "</div>"
      ],
      "text/plain": [
       "                        date  \\\n",
       "0  2021-05-03 17:27:11+00:00   \n",
       "1  2021-05-03 07:56:16+00:00   \n",
       "2  2021-05-03 06:20:26+00:00   \n",
       "3  2021-05-02 22:17:02+00:00   \n",
       "4  2021-05-02 21:09:21+00:00   \n",
       "\n",
       "                                             content                   id  \\\n",
       "0  @MeetLuis @WARREZ420 @WholeMarsBlog Rawlinson ...  1389270326073253889   \n",
       "1        @spacex360 So great to see the happy faces!  1389126650508480512   \n",
       "2  @utsavtechie Prototypes are easy, production i...  1389102532706848768   \n",
       "3  @heydave7 @Tesla A remarkable junction in history  1388980879175954433   \n",
       "4  @jaentwistle One of many reasons why we need l...  1388963849043419140   \n",
       "\n",
       "        user  replyCount  retweetCount  likeCount  quoteCount  year  month  \\\n",
       "0  Elon Musk         368           219       2281         100  2021      5   \n",
       "1  Elon Musk         774           943      29807          42  2021      5   \n",
       "2  Elon Musk        2791          8029     159645         648  2021      5   \n",
       "3  Elon Musk         918           865      16742          71  2021      5   \n",
       "4  Elon Musk        1152          1474      32663          78  2021      5   \n",
       "\n",
       "   day  \n",
       "0    3  \n",
       "1    3  \n",
       "2    3  \n",
       "3    2  \n",
       "4    2  "
      ]
     },
     "execution_count": 24,
     "metadata": {},
     "output_type": "execute_result"
    }
   ],
   "source": [
    "tweets.head()"
   ]
  },
  {
   "cell_type": "code",
   "execution_count": 25,
   "metadata": {},
   "outputs": [
    {
     "data": {
      "text/plain": [
       "(16103, 11)"
      ]
     },
     "execution_count": 25,
     "metadata": {},
     "output_type": "execute_result"
    }
   ],
   "source": [
    "tweets.shape"
   ]
  },
  {
   "cell_type": "code",
   "execution_count": 26,
   "metadata": {},
   "outputs": [
    {
     "data": {
      "text/plain": [
       "date            object\n",
       "content         object\n",
       "id               int64\n",
       "user            object\n",
       "replyCount       int64\n",
       "retweetCount     int64\n",
       "likeCount        int64\n",
       "quoteCount       int64\n",
       "year             int64\n",
       "month            int64\n",
       "day              int64\n",
       "dtype: object"
      ]
     },
     "execution_count": 26,
     "metadata": {},
     "output_type": "execute_result"
    }
   ],
   "source": [
    "tweets.dtypes"
   ]
  }
 ],
 "metadata": {
  "kernelspec": {
   "display_name": "Python 3",
   "language": "python",
   "name": "python3"
  },
  "language_info": {
   "codemirror_mode": {
    "name": "ipython",
    "version": 3
   },
   "file_extension": ".py",
   "mimetype": "text/x-python",
   "name": "python",
   "nbconvert_exporter": "python",
   "pygments_lexer": "ipython3",
   "version": "3.8.5"
  }
 },
 "nbformat": 4,
 "nbformat_minor": 4
}
