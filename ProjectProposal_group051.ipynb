{
 "cells": [
  {
   "cell_type": "markdown",
   "metadata": {},
   "source": [
    "# COGS 108 - Final Project Proposal"
   ]
  },
  {
   "cell_type": "markdown",
   "metadata": {},
   "source": [
    "# Names\n",
    "\n",
    "- Luke Sztajnkrycer\n",
    "- Drake Coy\n",
    "- Alara Brashears\n",
    "- Rohit Mishra"
   ]
  },
  {
   "cell_type": "markdown",
   "metadata": {},
   "source": [
    "# Research Question"
   ]
  },
  {
   "cell_type": "markdown",
   "metadata": {},
   "source": [
    "How do tweets from market celebrities/influencers (such as Elon Musk, Trump/Biden, tech companies) affect crypto currency and stock market investments? More specifically, how do the sentiments of these tweets drive the number and types of investments, and how effective are the tweets of pop-culture figures (e.g. Elon Musk, Robert Downy Jr.) compared to less-known specialists (e.g. individuals with formal blockchain knowledge)?"
   ]
  },
  {
   "cell_type": "markdown",
   "metadata": {},
   "source": [
    "# Background and Prior Work"
   ]
  },
  {
   "cell_type": "markdown",
   "metadata": {},
   "source": [
    "### Why is this interesting to us?\n",
    "Over the past couple years, we have seen a large spike in the quantity of investments as people start to pick up free and ease-of-use investment apps such as Robinhood (1). In general, these new investors tend to be less experienced than the traditional investor, as they don’t have as much formal education. Additionally this more publicized use of the stock market has caused investment topics to gain traction on social media. This means certain celebrities and influencers interested in the topic of investment have started to gain a sway over the market - their words can have an impact on various stock trends (1).\n",
    "\n",
    "### Background knowledge\n",
    "In terms of the group’s previous knowledge on cryptocurrency, we have noticed the considerable rise of cryptocurrency as a viable means of storing value. Unlike government-issued currency (USD), cryptocurrency is usually decentralized and is based on blockchain technology. With this as a basis of its core design, it enables traders to be more flexible with their usage of the currency. Along with this inherent quality, the result of being decentralized is associated with high volatility. For our investigation, we want to further explore the volatility of this store of value. More specifically, we want to understand if there is an effect on the price of this currency by notable figures. An example is Elon Musk, who we observed was promoting certain assets like DogeCoin and Bitcoin.\n",
    "\n",
    "### Importance of the work\n",
    "In today's digital world social media influences have massive power over our daily lives, even if we aren’t aware of it. Elon Musk has over 47 million followers on his twitter (1) which needless to say, allows him to share his opinions with a massive amount of people. Is it reasonable for a single person to have this level of influence over our general population? What happens when someone like him tweets about Bitcoin or the stock market? These sorts of questions are incredibly important to understand in order to keep our economy stable. Crypto currency is becoming more mainstream with companies like Microsoft, Tesla, and Amazon now accepting Bitcoin as an official payment method for many of their products showing just how prevalent it is becoming to our economy (2). Understanding the relationship between influencers and the emerging crypto currency market is extremely important as its market cap is now entering the trillions of dollars (3).\n",
    "\n",
    "\n",
    "References (include links): (note the parentheses containing numbers above contain content from our references)\n",
    "- 1) https://www.forbes.com/sites/ronshevlin/2021/02/21/how-elon-musk-moves-the-price-of-bitcoin-with-his-twitter-activity/?sh=4dda66b55d27\n",
    "- 2) https://www.euronews.com/2021/04/07/paying-with-cryptocurrencies-these-are-the-major-companies-that-accept-cryptos-as-payment \n",
    "- 3) https://coinmarketcap.com/ "
   ]
  },
  {
   "cell_type": "markdown",
   "metadata": {},
   "source": [
    "# Hypothesis\n"
   ]
  },
  {
   "cell_type": "markdown",
   "metadata": {},
   "source": [
    "We hypothesize that tweets from market celebrities/influencers would have a great effect on crypto currency and stock market investments. Specifically, positive tweets about a market would correlate with an increase in investment while negative tweets would correlate with a decrease in investment. In addition, we predict that the tweets of pop-culture figures will have more of an effect on the market than less-known specialists. "
   ]
  },
  {
   "cell_type": "markdown",
   "metadata": {},
   "source": [
    "# Data"
   ]
  },
  {
   "cell_type": "markdown",
   "metadata": {},
   "source": [
    "In order to answer our research question we would need two data sets, one detailing the tweets of certain influences, and another showing the crypto currency market. To be more specific, we would need logs of the tweets that discuss the market trends. Specifically, we would want to measure the timestamps of the tweets, but concurrently look at the prevalence of cryptocurrency keywords in the messages. Alongside this data, we want to explore market behaviors as well, possibly merging the two datasets on the days from each set."
   ]
  },
  {
   "cell_type": "markdown",
   "metadata": {},
   "source": [
    "# Ethics & Privacy"
   ]
  },
  {
   "cell_type": "markdown",
   "metadata": {},
   "source": [
    "We would expect that our data sets would contain relatively little private information. All tweets collected would be from public accounts and the information they willingly shared with the public. Any personal information accidentally collected from the influencers will be hidden; we will only keep their public names and the content of their tweets. Any and all crypto-market data collected will be in relation to the market as a whole, and will not include any individual's personal information.\n",
    "\n",
    "In addition, this project is aimed to analyze the possible effects that celebrities can have on the prices of stocks and/or crypto currencies. In no way do we advocate for these celebrities to use their power to influence markets. We understand that this project could potentially indicate how influencers are properly exploiting followers for financial gain, however such actions are unethical and illegal. This project is an attempt to shine a light on such novel issues. We believe that the benefits this project may provide in consumer knowledge outweighs the potential risk of this project being used for selfish purposes.\n"
   ]
  },
  {
   "cell_type": "markdown",
   "metadata": {},
   "source": [
    "# Team Expectations "
   ]
  },
  {
   "cell_type": "markdown",
   "metadata": {},
   "source": [
    "* Show up to meetings on time (and hopefully finish them on time too)\n",
    "* Communicate in a timely manner about any help needed or meeting changes needed\n",
    "* Work as hard as we need to in order to deliver a quality final product.\n",
    "* Split work as equally as possible.\n",
    "* Collaborate openly and provide constructive feedback when necessary.\n",
    "* Be nice :)"
   ]
  },
  {
   "cell_type": "markdown",
   "metadata": {},
   "source": [
    "# Project Timeline Proposal"
   ]
  },
  {
   "cell_type": "markdown",
   "metadata": {},
   "source": [
    "| Meeting Date  | Meeting Time| Completed Before Meeting  | Discuss at Meeting |\n",
    "|---|---|---|---|\n",
    "| 4/14  |  12 PM | Read & Think about COGS 108 expectations; brainstorm topics/questions  | Determine best form of communication; Discuss and decide on final project topic; discuss hypothesis; begin background research | \n",
    "| 4/22  |  12:30 PM |  Do background research on topic | Discuss ideal dataset(s) and ethics; draft project proposal | \n",
    "| 4/28  | 12 PM  | Edit, finalize, and submit proposals; Search for datasets and or ways to scrape data, document them. | Decide on datasets/methods to use. Discuss Wrangling/Cleaning and possible analytical approaches; Assign group members to lead each specific part.   |\n",
    "| 5/5  | 12 PM  | Finish cleaning personal portions of data. | Review each other's data wrangling/cleaning. Finish the data checkpoint assignment. Discuss needed EDA. **Data checkpoint due this week (5/7).**   |\n",
    "| 5/12  | 12 PM  | Complete personal portion of EDA. | Work on EDA. Discuss results and findings and compare with hypotheses. |\n",
    "| 5/19  | 12 PM  | Complete further analysis and begin thinking about conclusions.| Review each other's EDA. Ensure everything is ready to submit. Finish EDA checkpoint. Discuss further methods of analysis. **EDA checkpoint due this week (5/21).** |\n",
    "| 5/26  | 12 PM  | Complete all analysis this week. | Discuss and edit the final project. Draft our final conclusions. |\n",
    "| 6/2  | 12 PM  | Polish project for grammar/spelling/etc. |Create a project video. |\n",
    "| 6/9  | Before 11:59 PM  | Created project video | Turn in Final project, group survey, and project video. **Due 11:59 on 6/9** |"
   ]
  }
 ],
 "metadata": {
  "kernelspec": {
   "display_name": "Python 3",
   "language": "python",
   "name": "python3"
  },
  "language_info": {
   "codemirror_mode": {
    "name": "ipython",
    "version": 3
   },
   "file_extension": ".py",
   "mimetype": "text/x-python",
   "name": "python",
   "nbconvert_exporter": "python",
   "pygments_lexer": "ipython3",
   "version": "3.8.5"
  }
 },
 "nbformat": 4,
 "nbformat_minor": 2
}
