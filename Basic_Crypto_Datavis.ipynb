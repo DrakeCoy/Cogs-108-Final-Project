{
 "cells": [
  {
   "cell_type": "code",
   "execution_count": 1,
   "metadata": {},
   "outputs": [],
   "source": [
    "import numpy as np\n",
    "import pandas as pd"
   ]
  },
  {
   "cell_type": "code",
   "execution_count": 2,
   "metadata": {},
   "outputs": [
    {
     "data": {
      "text/html": [
       "<div>\n",
       "<style scoped>\n",
       "    .dataframe tbody tr th:only-of-type {\n",
       "        vertical-align: middle;\n",
       "    }\n",
       "\n",
       "    .dataframe tbody tr th {\n",
       "        vertical-align: top;\n",
       "    }\n",
       "\n",
       "    .dataframe thead th {\n",
       "        text-align: right;\n",
       "    }\n",
       "</style>\n",
       "<table border=\"1\" class=\"dataframe\">\n",
       "  <thead>\n",
       "    <tr style=\"text-align: right;\">\n",
       "      <th></th>\n",
       "      <th>Date</th>\n",
       "      <th>Open</th>\n",
       "      <th>High</th>\n",
       "      <th>Low</th>\n",
       "      <th>Close</th>\n",
       "      <th>Adj Close</th>\n",
       "      <th>Volume</th>\n",
       "    </tr>\n",
       "  </thead>\n",
       "  <tbody>\n",
       "    <tr>\n",
       "      <th>0</th>\n",
       "      <td>2018-01-01</td>\n",
       "      <td>14112.200195</td>\n",
       "      <td>14112.200195</td>\n",
       "      <td>13154.700195</td>\n",
       "      <td>13657.200195</td>\n",
       "      <td>13657.200195</td>\n",
       "      <td>1.029120e+10</td>\n",
       "    </tr>\n",
       "    <tr>\n",
       "      <th>1</th>\n",
       "      <td>2018-01-02</td>\n",
       "      <td>13625.000000</td>\n",
       "      <td>15444.599609</td>\n",
       "      <td>13163.599609</td>\n",
       "      <td>14982.099609</td>\n",
       "      <td>14982.099609</td>\n",
       "      <td>1.684660e+10</td>\n",
       "    </tr>\n",
       "    <tr>\n",
       "      <th>2</th>\n",
       "      <td>2018-01-03</td>\n",
       "      <td>14978.200195</td>\n",
       "      <td>15572.799805</td>\n",
       "      <td>14844.500000</td>\n",
       "      <td>15201.000000</td>\n",
       "      <td>15201.000000</td>\n",
       "      <td>1.687190e+10</td>\n",
       "    </tr>\n",
       "    <tr>\n",
       "      <th>3</th>\n",
       "      <td>2018-01-04</td>\n",
       "      <td>15270.700195</td>\n",
       "      <td>15739.700195</td>\n",
       "      <td>14522.200195</td>\n",
       "      <td>15599.200195</td>\n",
       "      <td>15599.200195</td>\n",
       "      <td>2.178320e+10</td>\n",
       "    </tr>\n",
       "    <tr>\n",
       "      <th>4</th>\n",
       "      <td>2018-01-05</td>\n",
       "      <td>15477.200195</td>\n",
       "      <td>17705.199219</td>\n",
       "      <td>15202.799805</td>\n",
       "      <td>17429.500000</td>\n",
       "      <td>17429.500000</td>\n",
       "      <td>2.384090e+10</td>\n",
       "    </tr>\n",
       "  </tbody>\n",
       "</table>\n",
       "</div>"
      ],
      "text/plain": [
       "         Date          Open          High           Low         Close  \\\n",
       "0  2018-01-01  14112.200195  14112.200195  13154.700195  13657.200195   \n",
       "1  2018-01-02  13625.000000  15444.599609  13163.599609  14982.099609   \n",
       "2  2018-01-03  14978.200195  15572.799805  14844.500000  15201.000000   \n",
       "3  2018-01-04  15270.700195  15739.700195  14522.200195  15599.200195   \n",
       "4  2018-01-05  15477.200195  17705.199219  15202.799805  17429.500000   \n",
       "\n",
       "      Adj Close        Volume  \n",
       "0  13657.200195  1.029120e+10  \n",
       "1  14982.099609  1.684660e+10  \n",
       "2  15201.000000  1.687190e+10  \n",
       "3  15599.200195  2.178320e+10  \n",
       "4  17429.500000  2.384090e+10  "
      ]
     },
     "execution_count": 2,
     "metadata": {},
     "output_type": "execute_result"
    }
   ],
   "source": [
    "btc_data = pd.read_csv('data/BTC-USD.csv')\n",
    "btc_data.head()"
   ]
  },
  {
   "cell_type": "code",
   "execution_count": 3,
   "metadata": {},
   "outputs": [
    {
     "data": {
      "text/plain": [
       "(1213, 7)"
      ]
     },
     "execution_count": 3,
     "metadata": {},
     "output_type": "execute_result"
    }
   ],
   "source": [
    "btc_data.shape"
   ]
  },
  {
   "cell_type": "code",
   "execution_count": 4,
   "metadata": {},
   "outputs": [
    {
     "data": {
      "text/plain": [
       "False    1213\n",
       "Name: Date, dtype: int64"
      ]
     },
     "execution_count": 4,
     "metadata": {},
     "output_type": "execute_result"
    }
   ],
   "source": [
    "na_data = btc_data.isna()\n",
    "na_data['Date'].value_counts()"
   ]
  },
  {
   "cell_type": "markdown",
   "metadata": {},
   "source": [
    "Wow, it looks like all of the data is there, and nicely formatted. We should definitely rename and describe the columns, and change the decimal places of the dataframe, but it is very nicely formatted."
   ]
  },
  {
   "cell_type": "markdown",
   "metadata": {},
   "source": [
    "Date: the date. We took data for each day the market was open since 2018 (Jan 1) until yesterday (4/27/2021). We picked 4/27 because some of the cryptocurrencies didn't have data available for today yet.\n",
    "\n",
    "Open: The price of the cryptocurrency when the market opens for the day.\n",
    "\n",
    "High: The highest price of the cryptocurrency for a given day.\n",
    "\n",
    "Low: The lowest price of the cryptocurrency for a given day.\n",
    "\n",
    "Close: The price of the cryptocurrency when the market closes for the day.\n",
    "\n",
    "Adj Close: Stands for adjusted closing price. The adjusted closing price amends a stock's closing price to reflect that stock's value after accounting for any corporate actions. These appear to be the same as the normal closing price (Close).\n",
    "\n",
    "Volume: The amount of the cryptocurrency traded. More specifically, the volume is the value of all transactions for the given day."
   ]
  },
  {
   "cell_type": "markdown",
   "metadata": {},
   "source": [
    "## Options for cleaning:\n",
    "\n",
    "- Change datetime to start with days rather than years\n",
    "- Rename Columns\n",
    "- Change decimal places to make numbers more readable\n",
    "- Create new columns that show the change in price from start to finish."
   ]
  },
  {
   "cell_type": "code",
   "execution_count": 5,
   "metadata": {},
   "outputs": [
    {
     "data": {
      "text/html": [
       "<div>\n",
       "<style scoped>\n",
       "    .dataframe tbody tr th:only-of-type {\n",
       "        vertical-align: middle;\n",
       "    }\n",
       "\n",
       "    .dataframe tbody tr th {\n",
       "        vertical-align: top;\n",
       "    }\n",
       "\n",
       "    .dataframe thead th {\n",
       "        text-align: right;\n",
       "    }\n",
       "</style>\n",
       "<table border=\"1\" class=\"dataframe\">\n",
       "  <thead>\n",
       "    <tr style=\"text-align: right;\">\n",
       "      <th></th>\n",
       "      <th>Date</th>\n",
       "      <th>Open</th>\n",
       "      <th>High</th>\n",
       "      <th>Low</th>\n",
       "      <th>Close</th>\n",
       "      <th>Adj Close</th>\n",
       "      <th>Volume</th>\n",
       "      <th>price change</th>\n",
       "    </tr>\n",
       "  </thead>\n",
       "  <tbody>\n",
       "    <tr>\n",
       "      <th>0</th>\n",
       "      <td>2018-01-01</td>\n",
       "      <td>14112.200195</td>\n",
       "      <td>14112.200195</td>\n",
       "      <td>13154.700195</td>\n",
       "      <td>13657.200195</td>\n",
       "      <td>13657.200195</td>\n",
       "      <td>1.029120e+10</td>\n",
       "      <td>-455.000000</td>\n",
       "    </tr>\n",
       "    <tr>\n",
       "      <th>1</th>\n",
       "      <td>2018-01-02</td>\n",
       "      <td>13625.000000</td>\n",
       "      <td>15444.599609</td>\n",
       "      <td>13163.599609</td>\n",
       "      <td>14982.099609</td>\n",
       "      <td>14982.099609</td>\n",
       "      <td>1.684660e+10</td>\n",
       "      <td>1357.099609</td>\n",
       "    </tr>\n",
       "    <tr>\n",
       "      <th>2</th>\n",
       "      <td>2018-01-03</td>\n",
       "      <td>14978.200195</td>\n",
       "      <td>15572.799805</td>\n",
       "      <td>14844.500000</td>\n",
       "      <td>15201.000000</td>\n",
       "      <td>15201.000000</td>\n",
       "      <td>1.687190e+10</td>\n",
       "      <td>222.799805</td>\n",
       "    </tr>\n",
       "    <tr>\n",
       "      <th>3</th>\n",
       "      <td>2018-01-04</td>\n",
       "      <td>15270.700195</td>\n",
       "      <td>15739.700195</td>\n",
       "      <td>14522.200195</td>\n",
       "      <td>15599.200195</td>\n",
       "      <td>15599.200195</td>\n",
       "      <td>2.178320e+10</td>\n",
       "      <td>328.500000</td>\n",
       "    </tr>\n",
       "    <tr>\n",
       "      <th>4</th>\n",
       "      <td>2018-01-05</td>\n",
       "      <td>15477.200195</td>\n",
       "      <td>17705.199219</td>\n",
       "      <td>15202.799805</td>\n",
       "      <td>17429.500000</td>\n",
       "      <td>17429.500000</td>\n",
       "      <td>2.384090e+10</td>\n",
       "      <td>1952.299805</td>\n",
       "    </tr>\n",
       "  </tbody>\n",
       "</table>\n",
       "</div>"
      ],
      "text/plain": [
       "         Date          Open          High           Low         Close  \\\n",
       "0  2018-01-01  14112.200195  14112.200195  13154.700195  13657.200195   \n",
       "1  2018-01-02  13625.000000  15444.599609  13163.599609  14982.099609   \n",
       "2  2018-01-03  14978.200195  15572.799805  14844.500000  15201.000000   \n",
       "3  2018-01-04  15270.700195  15739.700195  14522.200195  15599.200195   \n",
       "4  2018-01-05  15477.200195  17705.199219  15202.799805  17429.500000   \n",
       "\n",
       "      Adj Close        Volume  price change  \n",
       "0  13657.200195  1.029120e+10   -455.000000  \n",
       "1  14982.099609  1.684660e+10   1357.099609  \n",
       "2  15201.000000  1.687190e+10    222.799805  \n",
       "3  15599.200195  2.178320e+10    328.500000  \n",
       "4  17429.500000  2.384090e+10   1952.299805  "
      ]
     },
     "execution_count": 5,
     "metadata": {},
     "output_type": "execute_result"
    }
   ],
   "source": [
    "#make a new column for daily price change\n",
    "btc_data['price change'] = btc_data['Close'] - btc_data['Open']\n",
    "btc_data.head()"
   ]
  },
  {
   "cell_type": "markdown",
   "metadata": {},
   "source": [
    "Some new, combined dataframes of the crypto's we want to examine might also be nice. This would be a good way to organize some of the data. For now, I'll start with 2:\n",
    "\n",
    "1. A dataframe denoting all the closing prices for the day (to look at final prices and how well the crypto's do over time).\n",
    "2. A dataframe denoting all the price changes for the day (to look at how well a crypto did in a given day)\n",
    "\n",
    "The first dataframe can be visualized well with a line plot, since it is a visualization of the price of a few cryptocurrencies over time. The second diagram will be harder to visualize, since the price change on a given day can be completely difference than the change the day before. We'll have to experiment with possible visualizations.\n",
    "\n",
    "To make these dataframes, I'll first import other popular cryptocurrencies to look at (maybe put all crypto in a list at top):\n",
    "\n",
    "- Ethereum (ETH)\n",
    "- XRP (XRP)\n",
    "- Dogecoin (DOGE)"
   ]
  },
  {
   "cell_type": "code",
   "execution_count": 6,
   "metadata": {},
   "outputs": [],
   "source": [
    "#read in data for other cryptocurrencies:\n",
    "eth_data = pd.read_csv('data/ETH-USD.csv')\n",
    "xrp_data = pd.read_csv('data/XRP-USD.csv')\n",
    "doge_data = pd.read_csv('data/DOGE-USD.csv')"
   ]
  },
  {
   "cell_type": "code",
   "execution_count": 18,
   "metadata": {},
   "outputs": [
    {
     "data": {
      "text/html": [
       "<div>\n",
       "<style scoped>\n",
       "    .dataframe tbody tr th:only-of-type {\n",
       "        vertical-align: middle;\n",
       "    }\n",
       "\n",
       "    .dataframe tbody tr th {\n",
       "        vertical-align: top;\n",
       "    }\n",
       "\n",
       "    .dataframe thead th {\n",
       "        text-align: right;\n",
       "    }\n",
       "</style>\n",
       "<table border=\"1\" class=\"dataframe\">\n",
       "  <thead>\n",
       "    <tr style=\"text-align: right;\">\n",
       "      <th></th>\n",
       "      <th>Date</th>\n",
       "      <th>BTC Price</th>\n",
       "      <th>ETH Price</th>\n",
       "      <th>XRP Price</th>\n",
       "      <th>DOGE Price</th>\n",
       "    </tr>\n",
       "  </thead>\n",
       "  <tbody>\n",
       "    <tr>\n",
       "      <th>0</th>\n",
       "      <td>2018-01-01</td>\n",
       "      <td>13657.200195</td>\n",
       "      <td>772.640991</td>\n",
       "      <td>2.39103</td>\n",
       "      <td>0.008909</td>\n",
       "    </tr>\n",
       "    <tr>\n",
       "      <th>1</th>\n",
       "      <td>2018-01-02</td>\n",
       "      <td>14982.099609</td>\n",
       "      <td>884.443970</td>\n",
       "      <td>2.48090</td>\n",
       "      <td>0.009145</td>\n",
       "    </tr>\n",
       "    <tr>\n",
       "      <th>2</th>\n",
       "      <td>2018-01-03</td>\n",
       "      <td>15201.000000</td>\n",
       "      <td>962.719971</td>\n",
       "      <td>3.10537</td>\n",
       "      <td>0.009320</td>\n",
       "    </tr>\n",
       "    <tr>\n",
       "      <th>3</th>\n",
       "      <td>2018-01-04</td>\n",
       "      <td>15599.200195</td>\n",
       "      <td>980.921997</td>\n",
       "      <td>3.19663</td>\n",
       "      <td>0.009644</td>\n",
       "    </tr>\n",
       "    <tr>\n",
       "      <th>4</th>\n",
       "      <td>2018-01-05</td>\n",
       "      <td>17429.500000</td>\n",
       "      <td>997.719971</td>\n",
       "      <td>3.04871</td>\n",
       "      <td>0.012167</td>\n",
       "    </tr>\n",
       "  </tbody>\n",
       "</table>\n",
       "</div>"
      ],
      "text/plain": [
       "         Date     BTC Price   ETH Price  XRP Price  DOGE Price\n",
       "0  2018-01-01  13657.200195  772.640991    2.39103    0.008909\n",
       "1  2018-01-02  14982.099609  884.443970    2.48090    0.009145\n",
       "2  2018-01-03  15201.000000  962.719971    3.10537    0.009320\n",
       "3  2018-01-04  15599.200195  980.921997    3.19663    0.009644\n",
       "4  2018-01-05  17429.500000  997.719971    3.04871    0.012167"
      ]
     },
     "execution_count": 18,
     "metadata": {},
     "output_type": "execute_result"
    }
   ],
   "source": [
    "#dataframe of closing prices by day:\n",
    "#we know for sure that bitcoin has all the dates we want, so I'll just use the dates from the btc dataframe.\n",
    "closing_prices = [btc_data['Date'], btc_data['Close'], eth_data['Close'], xrp_data['Close'], doge_data['Close']]\n",
    "closing_prices_headers = ['Date', 'BTC Price', 'ETH Price', 'XRP Price', 'DOGE Price']\n",
    "\n",
    "price_by_day = pd.concat(closing_prices, axis = 1, keys = closing_prices_headers)\n",
    "price_by_day.head()"
   ]
  },
  {
   "cell_type": "code",
   "execution_count": 8,
   "metadata": {},
   "outputs": [
    {
     "data": {
      "text/plain": [
       "(1213, 5)"
      ]
     },
     "execution_count": 8,
     "metadata": {},
     "output_type": "execute_result"
    }
   ],
   "source": [
    "price_by_day.shape"
   ]
  },
  {
   "cell_type": "code",
   "execution_count": 9,
   "metadata": {},
   "outputs": [],
   "source": [
    "eth_data['price change'] = eth_data['Close'] - eth_data['Open']\n",
    "xrp_data['price change'] = xrp_data['Close'] - xrp_data['Open']\n",
    "doge_data['price change'] = doge_data['Close'] - doge_data['Open']"
   ]
  },
  {
   "cell_type": "code",
   "execution_count": 17,
   "metadata": {},
   "outputs": [
    {
     "data": {
      "text/html": [
       "<div>\n",
       "<style scoped>\n",
       "    .dataframe tbody tr th:only-of-type {\n",
       "        vertical-align: middle;\n",
       "    }\n",
       "\n",
       "    .dataframe tbody tr th {\n",
       "        vertical-align: top;\n",
       "    }\n",
       "\n",
       "    .dataframe thead th {\n",
       "        text-align: right;\n",
       "    }\n",
       "</style>\n",
       "<table border=\"1\" class=\"dataframe\">\n",
       "  <thead>\n",
       "    <tr style=\"text-align: right;\">\n",
       "      <th></th>\n",
       "      <th>date</th>\n",
       "      <th>btc_change</th>\n",
       "      <th>eth_Change</th>\n",
       "      <th>xrp_Change</th>\n",
       "      <th>doge_Change</th>\n",
       "    </tr>\n",
       "  </thead>\n",
       "  <tbody>\n",
       "    <tr>\n",
       "      <th>0</th>\n",
       "      <td>2018-01-01</td>\n",
       "      <td>-455.000000</td>\n",
       "      <td>16.883972</td>\n",
       "      <td>0.09501</td>\n",
       "      <td>-0.000122</td>\n",
       "    </tr>\n",
       "    <tr>\n",
       "      <th>1</th>\n",
       "      <td>2018-01-02</td>\n",
       "      <td>1357.099609</td>\n",
       "      <td>112.097962</td>\n",
       "      <td>0.11142</td>\n",
       "      <td>0.000272</td>\n",
       "    </tr>\n",
       "    <tr>\n",
       "      <th>2</th>\n",
       "      <td>2018-01-03</td>\n",
       "      <td>222.799805</td>\n",
       "      <td>76.719971</td>\n",
       "      <td>0.64127</td>\n",
       "      <td>0.000232</td>\n",
       "    </tr>\n",
       "    <tr>\n",
       "      <th>3</th>\n",
       "      <td>2018-01-04</td>\n",
       "      <td>328.500000</td>\n",
       "      <td>19.208984</td>\n",
       "      <td>0.07929</td>\n",
       "      <td>0.000298</td>\n",
       "    </tr>\n",
       "    <tr>\n",
       "      <th>4</th>\n",
       "      <td>2018-01-05</td>\n",
       "      <td>1952.299805</td>\n",
       "      <td>21.969971</td>\n",
       "      <td>-0.25210</td>\n",
       "      <td>0.002507</td>\n",
       "    </tr>\n",
       "  </tbody>\n",
       "</table>\n",
       "</div>"
      ],
      "text/plain": [
       "         date   btc_change  eth_Change  xrp_Change  doge_Change\n",
       "0  2018-01-01  -455.000000   16.883972     0.09501    -0.000122\n",
       "1  2018-01-02  1357.099609  112.097962     0.11142     0.000272\n",
       "2  2018-01-03   222.799805   76.719971     0.64127     0.000232\n",
       "3  2018-01-04   328.500000   19.208984     0.07929     0.000298\n",
       "4  2018-01-05  1952.299805   21.969971    -0.25210     0.002507"
      ]
     },
     "execution_count": 17,
     "metadata": {},
     "output_type": "execute_result"
    }
   ],
   "source": [
    "#Dataframe of price changes by day\n",
    "closing_changes = [btc_data['Date'], btc_data['price change'], eth_data['price change'], xrp_data['price change'], doge_data['price change']]\n",
    "closing_changes_headers = ['date', 'btc_change', 'eth_Change', 'xrp_Change', 'doge_Change']\n",
    "\n",
    "change_by_day = pd.concat(closing_changes, axis = 1, keys = closing_changes_headers)\n",
    "change_by_day.head()"
   ]
  },
  {
   "cell_type": "markdown",
   "metadata": {},
   "source": [
    "### Some more things to keep in mind:\n",
    "\n",
    "- Not all of the sets are as clean as bitcoin. I believe the XRP set has a few null rows, where data for that day was missing. I haven't taken these null rows out yet because I want to keep all tables the same size so that I can manipulate them more easily and make test comparisons.\n",
    "- Dogecoin's price is absurdly low compared to the other cryptocurrencies, and Bitcoin's price is absurdly high. Perhaps it would be better to look at price changes in terms of percentages."
   ]
  },
  {
   "cell_type": "code",
   "execution_count": null,
   "metadata": {},
   "outputs": [],
   "source": []
  }
 ],
 "metadata": {
  "kernelspec": {
   "display_name": "Python 3",
   "language": "python",
   "name": "python3"
  },
  "language_info": {
   "codemirror_mode": {
    "name": "ipython",
    "version": 3
   },
   "file_extension": ".py",
   "mimetype": "text/x-python",
   "name": "python",
   "nbconvert_exporter": "python",
   "pygments_lexer": "ipython3",
   "version": "3.8.5"
  }
 },
 "nbformat": 4,
 "nbformat_minor": 4
}
